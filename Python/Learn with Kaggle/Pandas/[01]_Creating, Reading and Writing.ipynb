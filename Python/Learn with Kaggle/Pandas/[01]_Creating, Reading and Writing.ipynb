{
 "cells": [
  {
   "cell_type": "markdown",
   "id": "8bdff482-9a44-4a53-aea1-5823f108c6ef",
   "metadata": {},
   "source": [
    "## Getting started"
   ]
  },
  {
   "cell_type": "code",
   "execution_count": 1,
   "id": "d02fefc2-2255-4605-839e-e4524bbd5940",
   "metadata": {},
   "outputs": [],
   "source": [
    "import pandas as pd"
   ]
  },
  {
   "cell_type": "markdown",
   "id": "82a0a112-d02b-4098-b4ba-6710dfb79b3a",
   "metadata": {},
   "source": [
    "## Creating data\n",
    "- Pandas에는 DataFrame과 Series가 있다."
   ]
  },
  {
   "cell_type": "markdown",
   "id": "39dde044-0887-499f-b7cd-fd61d2412045",
   "metadata": {},
   "source": [
    "### DataFrame\n",
    "* DataFrame은 table이다.\n",
    "* row, column 그리고 value가 있다.\n",
    "* table의 entry(각 항목)은 꼭 숫자일 필요는 없다. string도 가능!\n",
    "* DataFrame의 object 선언은 pd.DataFrame()이다. "
   ]
  },
  {
   "cell_type": "code",
   "execution_count": 2,
   "id": "d519d001-62c7-4bb0-85a9-221261a303fd",
   "metadata": {},
   "outputs": [
    {
     "data": {
      "text/html": [
       "<div>\n",
       "<style scoped>\n",
       "    .dataframe tbody tr th:only-of-type {\n",
       "        vertical-align: middle;\n",
       "    }\n",
       "\n",
       "    .dataframe tbody tr th {\n",
       "        vertical-align: top;\n",
       "    }\n",
       "\n",
       "    .dataframe thead th {\n",
       "        text-align: right;\n",
       "    }\n",
       "</style>\n",
       "<table border=\"1\" class=\"dataframe\">\n",
       "  <thead>\n",
       "    <tr style=\"text-align: right;\">\n",
       "      <th></th>\n",
       "      <th>Yes</th>\n",
       "      <th>No</th>\n",
       "    </tr>\n",
       "  </thead>\n",
       "  <tbody>\n",
       "    <tr>\n",
       "      <th>0</th>\n",
       "      <td>50</td>\n",
       "      <td>131</td>\n",
       "    </tr>\n",
       "    <tr>\n",
       "      <th>1</th>\n",
       "      <td>21</td>\n",
       "      <td>2</td>\n",
       "    </tr>\n",
       "  </tbody>\n",
       "</table>\n",
       "</div>"
      ],
      "text/plain": [
       "   Yes   No\n",
       "0   50  131\n",
       "1   21    2"
      ]
     },
     "execution_count": 2,
     "metadata": {},
     "output_type": "execute_result"
    }
   ],
   "source": [
    "pd.DataFrame({'Yes' : [50, 21], 'No' : [131, 2]})"
   ]
  },
  {
   "cell_type": "code",
   "execution_count": 3,
   "id": "622b26fe-4d2c-4dc2-abd4-91b28b413990",
   "metadata": {},
   "outputs": [
    {
     "data": {
      "text/html": [
       "<div>\n",
       "<style scoped>\n",
       "    .dataframe tbody tr th:only-of-type {\n",
       "        vertical-align: middle;\n",
       "    }\n",
       "\n",
       "    .dataframe tbody tr th {\n",
       "        vertical-align: top;\n",
       "    }\n",
       "\n",
       "    .dataframe thead th {\n",
       "        text-align: right;\n",
       "    }\n",
       "</style>\n",
       "<table border=\"1\" class=\"dataframe\">\n",
       "  <thead>\n",
       "    <tr style=\"text-align: right;\">\n",
       "      <th></th>\n",
       "      <th>Bob</th>\n",
       "      <th>Sue</th>\n",
       "    </tr>\n",
       "  </thead>\n",
       "  <tbody>\n",
       "    <tr>\n",
       "      <th>0</th>\n",
       "      <td>I liked it.</td>\n",
       "      <td>Pretty good.</td>\n",
       "    </tr>\n",
       "    <tr>\n",
       "      <th>1</th>\n",
       "      <td>It was awful.</td>\n",
       "      <td>Bland</td>\n",
       "    </tr>\n",
       "  </tbody>\n",
       "</table>\n",
       "</div>"
      ],
      "text/plain": [
       "             Bob           Sue\n",
       "0    I liked it.  Pretty good.\n",
       "1  It was awful.         Bland"
      ]
     },
     "execution_count": 3,
     "metadata": {},
     "output_type": "execute_result"
    }
   ],
   "source": [
    "pd.DataFrame({'Bob': ['I liked it.', 'It was awful.'], 'Sue' : ['Pretty good.', 'Bland']})"
   ]
  },
  {
   "cell_type": "markdown",
   "id": "42b6635d-811e-4dd2-9072-2a7a6ed52c12",
   "metadata": {},
   "source": [
    "* row label은 index라고 한다. "
   ]
  },
  {
   "cell_type": "code",
   "execution_count": 4,
   "id": "e89d82ae-db3c-432f-9f0e-88405c260404",
   "metadata": {},
   "outputs": [
    {
     "data": {
      "text/html": [
       "<div>\n",
       "<style scoped>\n",
       "    .dataframe tbody tr th:only-of-type {\n",
       "        vertical-align: middle;\n",
       "    }\n",
       "\n",
       "    .dataframe tbody tr th {\n",
       "        vertical-align: top;\n",
       "    }\n",
       "\n",
       "    .dataframe thead th {\n",
       "        text-align: right;\n",
       "    }\n",
       "</style>\n",
       "<table border=\"1\" class=\"dataframe\">\n",
       "  <thead>\n",
       "    <tr style=\"text-align: right;\">\n",
       "      <th></th>\n",
       "      <th>Bob</th>\n",
       "      <th>Sue</th>\n",
       "    </tr>\n",
       "  </thead>\n",
       "  <tbody>\n",
       "    <tr>\n",
       "      <th>Product A</th>\n",
       "      <td>I liked it.</td>\n",
       "      <td>Pretty good.</td>\n",
       "    </tr>\n",
       "    <tr>\n",
       "      <th>Product B</th>\n",
       "      <td>It was awful.</td>\n",
       "      <td>Bland</td>\n",
       "    </tr>\n",
       "  </tbody>\n",
       "</table>\n",
       "</div>"
      ],
      "text/plain": [
       "                     Bob           Sue\n",
       "Product A    I liked it.  Pretty good.\n",
       "Product B  It was awful.         Bland"
      ]
     },
     "execution_count": 4,
     "metadata": {},
     "output_type": "execute_result"
    }
   ],
   "source": [
    "pd.DataFrame({'Bob': ['I liked it.', 'It was awful.'],\n",
    "             'Sue' : ['Pretty good.', 'Bland']},\n",
    "            index=['Product A', 'Product B'])"
   ]
  },
  {
   "cell_type": "markdown",
   "id": "948024b5-3fb7-4431-9cc9-42354664c9da",
   "metadata": {},
   "source": [
    "### Series\n",
    "* DataFrame이 table이라면, Series는 list이다.\n",
    "* a single column of a DataFrame "
   ]
  },
  {
   "cell_type": "code",
   "execution_count": 5,
   "id": "da653c54-15a8-4cdb-8442-53a720a6879c",
   "metadata": {},
   "outputs": [
    {
     "data": {
      "text/plain": [
       "0    1\n",
       "1    2\n",
       "2    3\n",
       "dtype: int64"
      ]
     },
     "execution_count": 5,
     "metadata": {},
     "output_type": "execute_result"
    }
   ],
   "source": [
    "pd.Series([1, 2, 3])"
   ]
  },
  {
   "cell_type": "code",
   "execution_count": 7,
   "id": "6fddb1d4-3c93-4bbc-84be-442bc7cc77f4",
   "metadata": {},
   "outputs": [
    {
     "data": {
      "text/plain": [
       "2020 sales    30\n",
       "2021 sales    35\n",
       "2022 sales    40\n",
       "Name: Product A, dtype: int64"
      ]
     },
     "execution_count": 7,
     "metadata": {},
     "output_type": "execute_result"
    }
   ],
   "source": [
    "# name은 하나밖에 없는 column이다.\n",
    "pd.Series([30, 35, 40], index=['2020 sales', '2021 sales', '2022 sales'], name='Product A')"
   ]
  },
  {
   "cell_type": "markdown",
   "id": "bb2fdae9-2be5-4199-8cbe-48efdb5ef9d7",
   "metadata": {},
   "source": [
    "## Reading data files\n",
    "* csv 파일을 DataFrame으로 읽어온다."
   ]
  },
  {
   "cell_type": "code",
   "execution_count": 9,
   "id": "7ddb64d5-3731-4321-a555-ec3df722ac78",
   "metadata": {},
   "outputs": [
    {
     "data": {
      "text/plain": [
       "'C:\\\\Users\\\\user\\\\Desktop\\\\TIL\\\\Python\\\\Learn with Kaggle\\\\Pandas'"
      ]
     },
     "execution_count": 9,
     "metadata": {},
     "output_type": "execute_result"
    }
   ],
   "source": [
    "import os\n",
    "os.getcwd()"
   ]
  },
  {
   "cell_type": "code",
   "execution_count": 16,
   "id": "4a100e93-9ea9-411f-8a8a-8637b0adeb9d",
   "metadata": {},
   "outputs": [
    {
     "name": "stdout",
     "output_type": "stream",
     "text": [
      "   Product A  Product B  Product C,\n",
      "0         30         21           9\n",
      "1         35         34           1\n",
      "2         41         11          11\n",
      "(3, 3)\n",
      "   Product A  Product B  Product C,\n",
      "0         30         21           9\n"
     ]
    }
   ],
   "source": [
    "wine_reviews = pd.read_csv(\"../../prt1.csv\")\n",
    "print(wine_reviews)\n",
    "print(wine_reviews.shape)\n",
    "print(wine_reviews.head(1))"
   ]
  },
  {
   "cell_type": "code",
   "execution_count": 17,
   "id": "43c27634-d931-4460-b63f-c5f3f9311a20",
   "metadata": {},
   "outputs": [
    {
     "data": {
      "text/plain": [
       "pandas.core.frame.DataFrame"
      ]
     },
     "execution_count": 17,
     "metadata": {},
     "output_type": "execute_result"
    }
   ],
   "source": [
    "type(wine_reviews)"
   ]
  },
  {
   "cell_type": "code",
   "execution_count": 18,
   "id": "569cf55c-df71-4a63-becf-e06a4027fc8f",
   "metadata": {},
   "outputs": [
    {
     "data": {
      "text/html": [
       "<div>\n",
       "<style scoped>\n",
       "    .dataframe tbody tr th:only-of-type {\n",
       "        vertical-align: middle;\n",
       "    }\n",
       "\n",
       "    .dataframe tbody tr th {\n",
       "        vertical-align: top;\n",
       "    }\n",
       "\n",
       "    .dataframe thead th {\n",
       "        text-align: right;\n",
       "    }\n",
       "</style>\n",
       "<table border=\"1\" class=\"dataframe\">\n",
       "  <thead>\n",
       "    <tr style=\"text-align: right;\">\n",
       "      <th></th>\n",
       "      <th>Product B</th>\n",
       "      <th>Product C,</th>\n",
       "    </tr>\n",
       "    <tr>\n",
       "      <th>Product A</th>\n",
       "      <th></th>\n",
       "      <th></th>\n",
       "    </tr>\n",
       "  </thead>\n",
       "  <tbody>\n",
       "    <tr>\n",
       "      <th>30</th>\n",
       "      <td>21</td>\n",
       "      <td>9</td>\n",
       "    </tr>\n",
       "    <tr>\n",
       "      <th>35</th>\n",
       "      <td>34</td>\n",
       "      <td>1</td>\n",
       "    </tr>\n",
       "    <tr>\n",
       "      <th>41</th>\n",
       "      <td>11</td>\n",
       "      <td>11</td>\n",
       "    </tr>\n",
       "  </tbody>\n",
       "</table>\n",
       "</div>"
      ],
      "text/plain": [
       "           Product B  Product C,\n",
       "Product A                       \n",
       "30                21           9\n",
       "35                34           1\n",
       "41                11          11"
      ]
     },
     "execution_count": 18,
     "metadata": {},
     "output_type": "execute_result"
    }
   ],
   "source": [
    "Wine_Reviews = pd.read_csv(\"../../prt1.csv\", index_col = 0)\n",
    "Wine_Reviews"
   ]
  },
  {
   "cell_type": "markdown",
   "id": "f447190c-cf2d-437e-b1e9-eeaca43d2519",
   "metadata": {},
   "source": [
    "###\n",
    "END\n",
    "###"
   ]
  }
 ],
 "metadata": {
  "kernelspec": {
   "display_name": "Python 3 (ipykernel)",
   "language": "python",
   "name": "python3"
  },
  "language_info": {
   "codemirror_mode": {
    "name": "ipython",
    "version": 3
   },
   "file_extension": ".py",
   "mimetype": "text/x-python",
   "name": "python",
   "nbconvert_exporter": "python",
   "pygments_lexer": "ipython3",
   "version": "3.9.13"
  }
 },
 "nbformat": 4,
 "nbformat_minor": 5
}
