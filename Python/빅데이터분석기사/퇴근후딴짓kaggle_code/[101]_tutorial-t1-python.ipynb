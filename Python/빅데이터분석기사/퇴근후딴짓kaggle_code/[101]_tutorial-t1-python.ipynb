{
 "cells": [
  {
   "cell_type": "markdown",
   "id": "4e5ed398",
   "metadata": {
    "papermill": {
     "duration": 0.009925,
     "end_time": "2023-10-28T13:07:30.318768",
     "exception": false,
     "start_time": "2023-10-28T13:07:30.308843",
     "status": "completed"
    },
    "tags": []
   },
   "source": [
    "# 작업형1 예시문제\n",
    "자동차 데이터 셋에서 qsec 컬럼을 Min-Max Scale로 변환 후 0.5보다 큰 값을 가지는 레코드(row) 수를 묻는 문제입니다.\n",
    "- data 출처: https://www.kaggle.com/ruiromanini/mtcars\n",
    "- data 추가방법 : 우측 메뉴 -> +Add data -> mtcar(ruiromanini) ADD\n",
    "- 영상 링크 : https://youtu.be/E86QFVXPm5Q"
   ]
  },
  {
   "cell_type": "code",
   "execution_count": 1,
   "id": "c80eeb6c",
   "metadata": {
    "execution": {
     "iopub.execute_input": "2023-10-28T13:07:30.338552Z",
     "iopub.status.busy": "2023-10-28T13:07:30.336960Z",
     "iopub.status.idle": "2023-10-28T13:07:30.398938Z",
     "shell.execute_reply": "2023-10-28T13:07:30.399954Z",
     "shell.execute_reply.started": "2023-10-28T12:55:58.657852Z"
    },
    "papermill": {
     "duration": 0.074042,
     "end_time": "2023-10-28T13:07:30.400342",
     "exception": false,
     "start_time": "2023-10-28T13:07:30.326300",
     "status": "completed"
    },
    "tags": []
   },
   "outputs": [
    {
     "data": {
      "text/html": [
       "<div>\n",
       "<style scoped>\n",
       "    .dataframe tbody tr th:only-of-type {\n",
       "        vertical-align: middle;\n",
       "    }\n",
       "\n",
       "    .dataframe tbody tr th {\n",
       "        vertical-align: top;\n",
       "    }\n",
       "\n",
       "    .dataframe thead th {\n",
       "        text-align: right;\n",
       "    }\n",
       "</style>\n",
       "<table border=\"1\" class=\"dataframe\">\n",
       "  <thead>\n",
       "    <tr style=\"text-align: right;\">\n",
       "      <th></th>\n",
       "      <th>model</th>\n",
       "      <th>mpg</th>\n",
       "      <th>cyl</th>\n",
       "      <th>disp</th>\n",
       "      <th>hp</th>\n",
       "      <th>drat</th>\n",
       "      <th>wt</th>\n",
       "      <th>qsec</th>\n",
       "      <th>vs</th>\n",
       "      <th>am</th>\n",
       "      <th>gear</th>\n",
       "      <th>carb</th>\n",
       "    </tr>\n",
       "  </thead>\n",
       "  <tbody>\n",
       "    <tr>\n",
       "      <th>0</th>\n",
       "      <td>Mazda RX4</td>\n",
       "      <td>21.0</td>\n",
       "      <td>6</td>\n",
       "      <td>160.0</td>\n",
       "      <td>110</td>\n",
       "      <td>3.9</td>\n",
       "      <td>2.620</td>\n",
       "      <td>16.46</td>\n",
       "      <td>0</td>\n",
       "      <td>1</td>\n",
       "      <td>4</td>\n",
       "      <td>4</td>\n",
       "    </tr>\n",
       "    <tr>\n",
       "      <th>1</th>\n",
       "      <td>Mazda RX4 Wag</td>\n",
       "      <td>21.0</td>\n",
       "      <td>6</td>\n",
       "      <td>160.0</td>\n",
       "      <td>110</td>\n",
       "      <td>3.9</td>\n",
       "      <td>2.875</td>\n",
       "      <td>17.02</td>\n",
       "      <td>0</td>\n",
       "      <td>1</td>\n",
       "      <td>4</td>\n",
       "      <td>4</td>\n",
       "    </tr>\n",
       "  </tbody>\n",
       "</table>\n",
       "</div>"
      ],
      "text/plain": [
       "           model   mpg  cyl   disp   hp  drat     wt   qsec  vs  am  gear  \\\n",
       "0      Mazda RX4  21.0    6  160.0  110   3.9  2.620  16.46   0   1     4   \n",
       "1  Mazda RX4 Wag  21.0    6  160.0  110   3.9  2.875  17.02   0   1     4   \n",
       "\n",
       "   carb  \n",
       "0     4  \n",
       "1     4  "
      ]
     },
     "execution_count": 1,
     "metadata": {},
     "output_type": "execute_result"
    }
   ],
   "source": [
    "#EDA\n",
    "import pandas as pd\n",
    "data = pd.read_csv('../input/mtcars/mtcars.csv')\n",
    "data.head(2)"
   ]
  },
  {
   "cell_type": "markdown",
   "id": "8ecb7d87",
   "metadata": {
    "papermill": {
     "duration": 0.007433,
     "end_time": "2023-10-28T13:07:30.416761",
     "exception": false,
     "start_time": "2023-10-28T13:07:30.409328",
     "status": "completed"
    },
    "tags": []
   },
   "source": [
    "### 방법1"
   ]
  },
  {
   "cell_type": "code",
   "execution_count": 2,
   "id": "8f8c5132",
   "metadata": {
    "execution": {
     "iopub.execute_input": "2023-10-28T13:07:30.441295Z",
     "iopub.status.busy": "2023-10-28T13:07:30.440352Z",
     "iopub.status.idle": "2023-10-28T13:07:31.660248Z",
     "shell.execute_reply": "2023-10-28T13:07:31.659574Z",
     "shell.execute_reply.started": "2023-10-28T13:02:04.299460Z"
    },
    "papermill": {
     "duration": 1.234574,
     "end_time": "2023-10-28T13:07:31.660431",
     "exception": false,
     "start_time": "2023-10-28T13:07:30.425857",
     "status": "completed"
    },
    "tags": []
   },
   "outputs": [
    {
     "data": {
      "text/plain": [
       "9"
      ]
     },
     "execution_count": 2,
     "metadata": {},
     "output_type": "execute_result"
    }
   ],
   "source": [
    "# 라이브러리 불러오기\n",
    "import pandas as pd\n",
    "from sklearn.preprocessing import minmax_scale\n",
    "\n",
    "# 데이터 불러오기\n",
    "data = pd.read_csv('../input/mtcars/mtcars.csv')\n",
    "\n",
    "# min-max scale\n",
    "data.qsec = minmax_scale(data.qsec)\n",
    "\n",
    "\n",
    "# 0.5보다 큰 값 / 방법1,2 중에 선택\n",
    "len(data.qsec[data.qsec >= 0.5])"
   ]
  },
  {
   "cell_type": "markdown",
   "id": "c8f98eed",
   "metadata": {
    "papermill": {
     "duration": 0.007378,
     "end_time": "2023-10-28T13:07:31.676658",
     "exception": false,
     "start_time": "2023-10-28T13:07:31.669280",
     "status": "completed"
    },
    "tags": []
   },
   "source": [
    "### 방법2"
   ]
  },
  {
   "cell_type": "code",
   "execution_count": 3,
   "id": "38f3fe22",
   "metadata": {
    "_cell_guid": "b1076dfc-b9ad-4769-8c92-a6c4dae69d19",
    "_uuid": "8f2839f25d086af736a60e9eeb907d3b93b6e0e5",
    "execution": {
     "iopub.execute_input": "2023-10-28T13:07:31.704022Z",
     "iopub.status.busy": "2023-10-28T13:07:31.702735Z",
     "iopub.status.idle": "2023-10-28T13:07:31.719919Z",
     "shell.execute_reply": "2023-10-28T13:07:31.719065Z",
     "shell.execute_reply.started": "2021-10-07T07:08:32.944477Z"
    },
    "papermill": {
     "duration": 0.034333,
     "end_time": "2023-10-28T13:07:31.720091",
     "exception": false,
     "start_time": "2023-10-28T13:07:31.685758",
     "status": "completed"
    },
    "tags": []
   },
   "outputs": [
    {
     "name": "stdout",
     "output_type": "stream",
     "text": [
      "minmax 변환 전: \n",
      " 0    16.46\n",
      "1    17.02\n",
      "2    18.61\n",
      "3    19.44\n",
      "4    17.02\n",
      "Name: qsec, dtype: float64\n",
      "minmax 변환 후: \n",
      " 0    0.233333\n",
      "1    0.300000\n",
      "2    0.489286\n",
      "3    0.588095\n",
      "4    0.300000\n",
      "Name: qsec, dtype: float64\n",
      "9\n"
     ]
    }
   ],
   "source": [
    "# 라이브러리 불러오기\n",
    "import pandas as pd\n",
    "\n",
    "# 데이터 불러오기\n",
    "data = pd.read_csv('../input/mtcars/mtcars.csv')\n",
    "print('minmax 변환 전: \\n',data['qsec'].head())\n",
    "\n",
    "# min-max scale\n",
    "def minmax(data):\n",
    "    data = (data - min(data)) / (max(data) - min(data))\n",
    "    return data\n",
    "\n",
    "data['qsec'] = minmax(data['qsec'])\n",
    "print('minmax 변환 후: \\n',data['qsec'].head())\n",
    "\n",
    "# 0.5보다 큰 값 (row 수 파악)\n",
    "print(len(data[data['qsec']>0.5]))"
   ]
  }
 ],
 "metadata": {
  "kernelspec": {
   "display_name": "Python 3",
   "language": "python",
   "name": "python3"
  },
  "language_info": {
   "codemirror_mode": {
    "name": "ipython",
    "version": 3
   },
   "file_extension": ".py",
   "mimetype": "text/x-python",
   "name": "python",
   "nbconvert_exporter": "python",
   "pygments_lexer": "ipython3",
   "version": "3.7.10"
  },
  "papermill": {
   "default_parameters": {},
   "duration": 15.185044,
   "end_time": "2023-10-28T13:07:32.994333",
   "environment_variables": {},
   "exception": null,
   "input_path": "__notebook__.ipynb",
   "output_path": "__notebook__.ipynb",
   "parameters": {},
   "start_time": "2023-10-28T13:07:17.809289",
   "version": "2.3.3"
  }
 },
 "nbformat": 4,
 "nbformat_minor": 5
}
