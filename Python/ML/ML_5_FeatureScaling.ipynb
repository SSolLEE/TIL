{
 "cells": [
  {
   "cell_type": "markdown",
   "id": "a8492d1c-be9d-47bc-9d4a-21367431798d",
   "metadata": {},
   "source": [
    "### 데이터셋 불러오기"
   ]
  },
  {
   "cell_type": "code",
   "execution_count": 1,
   "id": "a45fc0dc-2e2e-49f1-ab02-d1fb3ad0a936",
   "metadata": {},
   "outputs": [
    {
     "name": "stdout",
     "output_type": "stream",
     "text": [
      "feature들의 평균값\n",
      "sepal length (cm)    5.843333\n",
      "sepal width (cm)     3.057333\n",
      "petal length (cm)    3.758000\n",
      "petal width (cm)     1.199333\n",
      "dtype: float64\n",
      "\n",
      "feature들의 분산값\n",
      "sepal length (cm)    0.685694\n",
      "sepal width (cm)     0.189979\n",
      "petal length (cm)    3.116278\n",
      "petal width (cm)     0.581006\n",
      "dtype: float64\n"
     ]
    }
   ],
   "source": [
    "from sklearn.datasets import load_iris\n",
    "import pandas as pd\n",
    "# 붓꽃 데이터 셋 로딩, DataFrame으로 변환\n",
    "iris = load_iris()\n",
    "iris_data = iris.data\n",
    "iris_df = pd.DataFrame(data = iris_data, columns = iris.feature_names)\n",
    "\n",
    "print('feature들의 평균값')\n",
    "print(iris_df.mean())\n",
    "print('\\nfeature들의 분산값')\n",
    "print(iris_df.var())"
   ]
  },
  {
   "cell_type": "markdown",
   "id": "bdeb908e-6e78-417c-b1cc-968842774863",
   "metadata": {},
   "source": [
    "### StandardScaler - 각 피처를 한 번에 표준화하기"
   ]
  },
  {
   "cell_type": "code",
   "execution_count": 7,
   "id": "afcadbff-c966-4a10-8c92-474814fb7796",
   "metadata": {},
   "outputs": [],
   "source": [
    "from sklearn.preprocessing import StandardScaler\n",
    "\n",
    "# StandardScaler 객체 생성\n",
    "scaler = StandardScaler()\n",
    "\n",
    "# StandardScaler로 데이터셋 변환. fit()과 transform() 호출\n",
    "scaler.fit(iris_df)\n",
    "iris_scaled = scaler.transform(iris_df)\n",
    "\n",
    "# print(iris_scaler)"
   ]
  },
  {
   "cell_type": "code",
   "execution_count": 8,
   "id": "4cf4dad7-9013-41c5-b5e3-6e1a64707adc",
   "metadata": {},
   "outputs": [
    {
     "name": "stdout",
     "output_type": "stream",
     "text": [
      "feature들의 평균값\n",
      "sepal length (cm)   -1.690315e-15\n",
      "sepal width (cm)    -1.842970e-15\n",
      "petal length (cm)   -1.698641e-15\n",
      "petal width (cm)    -1.409243e-15\n",
      "dtype: float64\n",
      "\n",
      "feature들의 분산값\n",
      "sepal length (cm)    1.006711\n",
      "sepal width (cm)     1.006711\n",
      "petal length (cm)    1.006711\n",
      "petal width (cm)     1.006711\n",
      "dtype: float64\n"
     ]
    }
   ],
   "source": [
    "# transform()을 하여 변환된 데이터넷은 Numpy ndarray 형태이다. 이를 DataFrame으로 변환\n",
    "iris_df_scaled = pd.DataFrame(data = iris_scaled, columns = iris.feature_names)\n",
    "print('feature들의 평균값')\n",
    "print(iris_df_scaled.mean())\n",
    "print('\\nfeature들의 분산값')\n",
    "print(iris_df_scaled.var())"
   ]
  },
  {
   "cell_type": "markdown",
   "id": "a045900f-0ff1-45d9-b8cc-5e4d31d8f21e",
   "metadata": {},
   "source": [
    "### MinMaxScaler - 데이터값을 0~1 사이의 범위 값으로 변환"
   ]
  },
  {
   "cell_type": "code",
   "execution_count": 10,
   "id": "9da030c5-596d-4b38-a198-6db0ea41b49d",
   "metadata": {},
   "outputs": [],
   "source": [
    "from sklearn.preprocessing import MinMaxScaler\n",
    "\n",
    "# MinMaxScaler 객체 생성\n",
    "scaler = MinMaxScaler()\n",
    "\n",
    "# MinMaxScaler로 데이터 셋 변환. fit()과 transform() 호출\n",
    "scaler.fit(iris_df)\n",
    "iris_scaled = scaler.transform(iris_df)\n",
    "\n",
    "# print(iris_scaled)"
   ]
  },
  {
   "cell_type": "code",
   "execution_count": 11,
   "id": "2c702bc8-0f98-4a01-97aa-c1e383167536",
   "metadata": {},
   "outputs": [
    {
     "name": "stdout",
     "output_type": "stream",
     "text": [
      "feature들의 최솟값\n",
      "sepal length (cm)    0.0\n",
      "sepal width (cm)     0.0\n",
      "petal length (cm)    0.0\n",
      "petal width (cm)     0.0\n",
      "dtype: float64\n",
      "\n",
      "feature들의 최댓값\n",
      "sepal length (cm)    1.0\n",
      "sepal width (cm)     1.0\n",
      "petal length (cm)    1.0\n",
      "petal width (cm)     1.0\n",
      "dtype: float64\n"
     ]
    }
   ],
   "source": [
    "# transform()을 하여 변환된 데이터넷은 Numpy ndarray 형태이다. 이를 DataFrame으로 변환\n",
    "iris_df_scaled = pd.DataFrame(data = iris_scaled, columns = iris.feature_names)\n",
    "print('feature들의 최솟값')\n",
    "print(iris_df_scaled.min())\n",
    "print('\\nfeature들의 최댓값')\n",
    "print(iris_df_scaled.max())"
   ]
  },
  {
   "cell_type": "markdown",
   "id": "fc7ec608-817d-4a58-8cf9-cc4a639f70a9",
   "metadata": {},
   "source": [
    "### 주의: 학습 데이터에서 fit()을 했다면 테스트 데이터에서는 fit()을 수행하지 않는다\n",
    "- 학습 데이터와 테스트 데이터의 스케일링 기준 정보가 서로 달라지기 때문에 올바른 예측 결과를 도출하지 못 할 수도 있음"
   ]
  },
  {
   "cell_type": "code",
   "execution_count": 12,
   "id": "7a9d3673-bf17-4553-a037-579fe89efc2a",
   "metadata": {},
   "outputs": [],
   "source": [
    "from sklearn.preprocessing import MinMaxScaler\n",
    "import numpy as np\n",
    "\n",
    "# 학습 데이터는 0~10, 테스트 데이터는 0~5까지 값을 가지는 데이터 셋 생성\n",
    "# Scaler 클래스의 fit(), transform()은 2차원 이상 데이터만 가능하므로 reshape(-1, 1)로 차원 변경\n",
    "train_array = np.arange(0, 11).reshape(-1, 1)\n",
    "test_array = np.arange(0, 6).reshape(-1, 1)"
   ]
  },
  {
   "cell_type": "markdown",
   "id": "1ce23a73-6bdb-4437-9591-995d09acc3a7",
   "metadata": {},
   "source": [
    "- train_array 변환"
   ]
  },
  {
   "cell_type": "code",
   "execution_count": 13,
   "id": "e22baba5-f61f-4f64-9bb1-5ab2e73a4def",
   "metadata": {},
   "outputs": [
    {
     "name": "stdout",
     "output_type": "stream",
     "text": [
      "원본 train_array 데이터 :  [ 0  1  2  3  4  5  6  7  8  9 10]\n",
      "Scale된 train_array 데이터 : [0.  0.1 0.2 0.3 0.4 0.5 0.6 0.7 0.8 0.9 1. ]\n"
     ]
    }
   ],
   "source": [
    "# MinMaxScaler 객체에 별도의 feature_range 파라미터 값을 지정하지 않으면 0~1 값으로 변환\n",
    "scaler = MinMaxScaler()\n",
    "\n",
    "# fit()을 하면 train_array 데이터의 최솟값이 0, 최댓값이 10으로 설정\n",
    "scaler.fit(train_array)\n",
    "\n",
    "# 1/10 scale로 train_array데이터를 변환함\n",
    "train_scaled = scaler.transform(train_array)\n",
    "\n",
    "print('원본 train_array 데이터 : ', np.round(train_array.reshape(-1), 2))\n",
    "print('Scale된 train_array 데이터 :', np.round(train_scaled.reshape(-1), 2))"
   ]
  },
  {
   "cell_type": "markdown",
   "id": "02dde645-4b1e-4c0e-b843-f2a943f0055b",
   "metadata": {},
   "source": [
    "- test_array 변환"
   ]
  },
  {
   "cell_type": "code",
   "execution_count": 14,
   "id": "87bd125c-5490-4bc7-a81d-e4dae53bb3cb",
   "metadata": {},
   "outputs": [
    {
     "name": "stdout",
     "output_type": "stream",
     "text": [
      "원본 test_array 데이터 :  [0 1 2 3 4 5]\n",
      "Scale된 test_array 데이터 : [0.  0.2 0.4 0.6 0.8 1. ]\n"
     ]
    }
   ],
   "source": [
    "# fit()을 하면 test_array 데이터의 최솟값이 0, 최댓값이 5으로 설정\n",
    "scaler.fit(test_array)\n",
    "\n",
    "# 1/5 scale로 test_array데이터를 변환함\n",
    "test_scaled = scaler.transform(test_array)\n",
    "\n",
    "print('원본 test_array 데이터 : ', np.round(test_array.reshape(-1), 2))\n",
    "print('Scale된 test_array 데이터 :', np.round(test_scaled.reshape(-1), 2))"
   ]
  },
  {
   "cell_type": "markdown",
   "id": "cc35d5ac-4883-4690-a1f3-9573e60cdcab",
   "metadata": {},
   "source": [
    "- 이번엔 제대로 test_array에서 fit()을 호출하지 않도록 한다. "
   ]
  },
  {
   "cell_type": "code",
   "execution_count": 16,
   "id": "85988a22-7937-4858-aa37-e4f19eea4598",
   "metadata": {},
   "outputs": [
    {
     "name": "stdout",
     "output_type": "stream",
     "text": [
      "원본 train_array 데이터 :  [ 0  1  2  3  4  5  6  7  8  9 10]\n",
      "Scale된 train_array 데이터 : [0.  0.1 0.2 0.3 0.4 0.5 0.6 0.7 0.8 0.9 1. ]\n",
      "\n",
      "원본 test_array 데이터 :  [0 1 2 3 4 5]\n",
      "Scale된 test_array 데이터 : [0.  0.1 0.2 0.3 0.4 0.5]\n"
     ]
    }
   ],
   "source": [
    "scaler = MinMaxScaler()\n",
    "scaler.fit(train_array)\n",
    "train_scaled = scaler.transform(train_array)\n",
    "print('원본 train_array 데이터 : ', np.round(train_array.reshape(-1), 2))\n",
    "print('Scale된 train_array 데이터 :', np.round(train_scaled.reshape(-1), 2))\n",
    "\n",
    "# test_array에 Scale 변환을 할 때는 fit()을 호출하지 않고 반드시 transform()만으로 변환한다.\n",
    "test_scaled = scaler.transform(test_array)\n",
    "print('\\n원본 test_array 데이터 : ', np.round(test_array.reshape(-1), 2))\n",
    "print('Scale된 test_array 데이터 :', np.round(test_scaled.reshape(-1), 2))"
   ]
  }
 ],
 "metadata": {
  "kernelspec": {
   "display_name": "Python 3 (ipykernel)",
   "language": "python",
   "name": "python3"
  },
  "language_info": {
   "codemirror_mode": {
    "name": "ipython",
    "version": 3
   },
   "file_extension": ".py",
   "mimetype": "text/x-python",
   "name": "python",
   "nbconvert_exporter": "python",
   "pygments_lexer": "ipython3",
   "version": "3.9.13"
  }
 },
 "nbformat": 4,
 "nbformat_minor": 5
}
