{
 "cells": [
  {
   "cell_type": "markdown",
   "id": "346c4936",
   "metadata": {
    "papermill": {
     "duration": 0.007777,
     "end_time": "2023-11-03T06:10:27.308969",
     "exception": false,
     "start_time": "2023-11-03T06:10:27.301192",
     "status": "completed"
    },
    "tags": []
   },
   "source": [
    "## 나이 구간 나누기\n",
    "###  basic1 데이터 중 'age'컬럼 이상치를 제거하고, 동일한 개수로 나이 순으로 3그룹으로 나눈 뒤 각 그룹의 중앙값을 더하시오\n",
    "### (이상치는 음수(0포함), 소수점 값)\n",
    "- data: basic1.csv\n",
    "- 오른쪽 상단 copy&edit 클릭 -> 예상문제 풀이 시작\n"
   ]
  },
  {
   "cell_type": "code",
   "execution_count": 1,
   "id": "1ab2a5de",
   "metadata": {
    "_cell_guid": "b1076dfc-b9ad-4769-8c92-a6c4dae69d19",
    "_uuid": "8f2839f25d086af736a60e9eeb907d3b93b6e0e5",
    "execution": {
     "iopub.execute_input": "2023-11-03T06:10:27.327417Z",
     "iopub.status.busy": "2023-11-03T06:10:27.326524Z",
     "iopub.status.idle": "2023-11-03T06:10:27.333019Z",
     "shell.execute_reply": "2023-11-03T06:10:27.333452Z",
     "shell.execute_reply.started": "2023-11-03T05:49:54.154420Z"
    },
    "papermill": {
     "duration": 0.016543,
     "end_time": "2023-11-03T06:10:27.333639",
     "exception": false,
     "start_time": "2023-11-03T06:10:27.317096",
     "status": "completed"
    },
    "tags": []
   },
   "outputs": [],
   "source": [
    "import pandas as pd"
   ]
  },
  {
   "cell_type": "code",
   "execution_count": 2,
   "id": "150dd22d",
   "metadata": {
    "execution": {
     "iopub.execute_input": "2023-11-03T06:10:27.349240Z",
     "iopub.status.busy": "2023-11-03T06:10:27.348763Z",
     "iopub.status.idle": "2023-11-03T06:10:27.363342Z",
     "shell.execute_reply": "2023-11-03T06:10:27.362897Z",
     "shell.execute_reply.started": "2023-11-03T05:49:54.185255Z"
    },
    "papermill": {
     "duration": 0.022953,
     "end_time": "2023-11-03T06:10:27.363435",
     "exception": false,
     "start_time": "2023-11-03T06:10:27.340482",
     "status": "completed"
    },
    "tags": []
   },
   "outputs": [],
   "source": [
    "df = pd.read_csv('../input/bigdatacertificationkr/basic1.csv')"
   ]
  },
  {
   "cell_type": "code",
   "execution_count": 3,
   "id": "7d8bc18d",
   "metadata": {
    "execution": {
     "iopub.execute_input": "2023-11-03T06:10:27.383366Z",
     "iopub.status.busy": "2023-11-03T06:10:27.382849Z",
     "iopub.status.idle": "2023-11-03T06:10:27.392840Z",
     "shell.execute_reply": "2023-11-03T06:10:27.393307Z",
     "shell.execute_reply.started": "2023-11-03T05:58:01.409952Z"
    },
    "papermill": {
     "duration": 0.023017,
     "end_time": "2023-11-03T06:10:27.393425",
     "exception": false,
     "start_time": "2023-11-03T06:10:27.370408",
     "status": "completed"
    },
    "tags": []
   },
   "outputs": [
    {
     "name": "stdout",
     "output_type": "stream",
     "text": [
      "(100, 8)\n",
      "(96, 8)\n",
      "(90, 8)\n"
     ]
    }
   ],
   "source": [
    "# age 이상치 (음수(0포함), 소수점 제거)\n",
    "print(df.shape)\n",
    "df = df[~(df['age'] <= 0)] # 0 이하 제거\n",
    "print(df.shape)\n",
    "df = df[(df['age']== round(df['age'], 0))] # 소수점 제거\n",
    "print(df.shape)"
   ]
  },
  {
   "cell_type": "code",
   "execution_count": 4,
   "id": "d92c9a7b",
   "metadata": {
    "execution": {
     "iopub.execute_input": "2023-11-03T06:10:27.414307Z",
     "iopub.status.busy": "2023-11-03T06:10:27.410328Z",
     "iopub.status.idle": "2023-11-03T06:10:27.427036Z",
     "shell.execute_reply": "2023-11-03T06:10:27.426553Z",
     "shell.execute_reply.started": "2023-11-03T05:58:26.836492Z"
    },
    "papermill": {
     "duration": 0.02621,
     "end_time": "2023-11-03T06:10:27.427147",
     "exception": false,
     "start_time": "2023-11-03T06:10:27.400937",
     "status": "completed"
    },
    "tags": []
   },
   "outputs": [
    {
     "data": {
      "text/html": [
       "<div>\n",
       "<style scoped>\n",
       "    .dataframe tbody tr th:only-of-type {\n",
       "        vertical-align: middle;\n",
       "    }\n",
       "\n",
       "    .dataframe tbody tr th {\n",
       "        vertical-align: top;\n",
       "    }\n",
       "\n",
       "    .dataframe thead th {\n",
       "        text-align: right;\n",
       "    }\n",
       "</style>\n",
       "<table border=\"1\" class=\"dataframe\">\n",
       "  <thead>\n",
       "    <tr style=\"text-align: right;\">\n",
       "      <th></th>\n",
       "      <th>id</th>\n",
       "      <th>age</th>\n",
       "      <th>city</th>\n",
       "      <th>f1</th>\n",
       "      <th>f2</th>\n",
       "      <th>f3</th>\n",
       "      <th>f4</th>\n",
       "      <th>f5</th>\n",
       "    </tr>\n",
       "  </thead>\n",
       "  <tbody>\n",
       "    <tr>\n",
       "      <th>0</th>\n",
       "      <td>id01</td>\n",
       "      <td>2.0</td>\n",
       "      <td>서울</td>\n",
       "      <td>NaN</td>\n",
       "      <td>0</td>\n",
       "      <td>NaN</td>\n",
       "      <td>ENFJ</td>\n",
       "      <td>91.297791</td>\n",
       "    </tr>\n",
       "    <tr>\n",
       "      <th>1</th>\n",
       "      <td>id02</td>\n",
       "      <td>9.0</td>\n",
       "      <td>서울</td>\n",
       "      <td>70.0</td>\n",
       "      <td>1</td>\n",
       "      <td>NaN</td>\n",
       "      <td>ENFJ</td>\n",
       "      <td>60.339826</td>\n",
       "    </tr>\n",
       "    <tr>\n",
       "      <th>2</th>\n",
       "      <td>id03</td>\n",
       "      <td>27.0</td>\n",
       "      <td>서울</td>\n",
       "      <td>61.0</td>\n",
       "      <td>1</td>\n",
       "      <td>NaN</td>\n",
       "      <td>ISTJ</td>\n",
       "      <td>17.252986</td>\n",
       "    </tr>\n",
       "    <tr>\n",
       "      <th>3</th>\n",
       "      <td>id04</td>\n",
       "      <td>75.0</td>\n",
       "      <td>서울</td>\n",
       "      <td>NaN</td>\n",
       "      <td>2</td>\n",
       "      <td>NaN</td>\n",
       "      <td>INFP</td>\n",
       "      <td>52.667078</td>\n",
       "    </tr>\n",
       "    <tr>\n",
       "      <th>4</th>\n",
       "      <td>id05</td>\n",
       "      <td>24.0</td>\n",
       "      <td>서울</td>\n",
       "      <td>85.0</td>\n",
       "      <td>2</td>\n",
       "      <td>NaN</td>\n",
       "      <td>ISFJ</td>\n",
       "      <td>29.269869</td>\n",
       "    </tr>\n",
       "  </tbody>\n",
       "</table>\n",
       "</div>"
      ],
      "text/plain": [
       "     id   age city    f1  f2   f3    f4         f5\n",
       "0  id01   2.0   서울   NaN   0  NaN  ENFJ  91.297791\n",
       "1  id02   9.0   서울  70.0   1  NaN  ENFJ  60.339826\n",
       "2  id03  27.0   서울  61.0   1  NaN  ISTJ  17.252986\n",
       "3  id04  75.0   서울   NaN   2  NaN  INFP  52.667078\n",
       "4  id05  24.0   서울  85.0   2  NaN  ISFJ  29.269869"
      ]
     },
     "execution_count": 4,
     "metadata": {},
     "output_type": "execute_result"
    }
   ],
   "source": [
    "df.head()"
   ]
  },
  {
   "cell_type": "code",
   "execution_count": 5,
   "id": "cca90460",
   "metadata": {
    "execution": {
     "iopub.execute_input": "2023-11-03T06:10:27.460462Z",
     "iopub.status.busy": "2023-11-03T06:10:27.459931Z",
     "iopub.status.idle": "2023-11-03T06:10:27.463261Z",
     "shell.execute_reply": "2023-11-03T06:10:27.462846Z",
     "shell.execute_reply.started": "2023-11-03T06:00:57.175458Z"
    },
    "papermill": {
     "duration": 0.028253,
     "end_time": "2023-11-03T06:10:27.463397",
     "exception": false,
     "start_time": "2023-11-03T06:10:27.435144",
     "status": "completed"
    },
    "tags": []
   },
   "outputs": [
    {
     "data": {
      "text/plain": [
       "0      (0.999, 38.667]\n",
       "1      (0.999, 38.667]\n",
       "2      (0.999, 38.667]\n",
       "3      (73.333, 100.0]\n",
       "4      (0.999, 38.667]\n",
       "            ...       \n",
       "95     (73.333, 100.0]\n",
       "96     (73.333, 100.0]\n",
       "97    (38.667, 73.333]\n",
       "98     (0.999, 38.667]\n",
       "99    (38.667, 73.333]\n",
       "Name: age, Length: 90, dtype: category\n",
       "Categories (3, interval[float64, right]): [(0.999, 38.667] < (38.667, 73.333] < (73.333, 100.0]]"
      ]
     },
     "execution_count": 5,
     "metadata": {},
     "output_type": "execute_result"
    }
   ],
   "source": [
    "# 기준 확인\n",
    "df_3 = pd.qcut(df['age'], q=3)\n",
    "df_3"
   ]
  },
  {
   "cell_type": "code",
   "execution_count": 6,
   "id": "75ab294f",
   "metadata": {
    "execution": {
     "iopub.execute_input": "2023-11-03T06:10:27.481758Z",
     "iopub.status.busy": "2023-11-03T06:10:27.481058Z",
     "iopub.status.idle": "2023-11-03T06:10:27.493741Z",
     "shell.execute_reply": "2023-11-03T06:10:27.494219Z",
     "shell.execute_reply.started": "2023-11-03T06:07:40.852628Z"
    },
    "papermill": {
     "duration": 0.022888,
     "end_time": "2023-11-03T06:10:27.494366",
     "exception": false,
     "start_time": "2023-11-03T06:10:27.471478",
     "status": "completed"
    },
    "tags": []
   },
   "outputs": [
    {
     "data": {
      "text/html": [
       "<div>\n",
       "<style scoped>\n",
       "    .dataframe tbody tr th:only-of-type {\n",
       "        vertical-align: middle;\n",
       "    }\n",
       "\n",
       "    .dataframe tbody tr th {\n",
       "        vertical-align: top;\n",
       "    }\n",
       "\n",
       "    .dataframe thead th {\n",
       "        text-align: right;\n",
       "    }\n",
       "</style>\n",
       "<table border=\"1\" class=\"dataframe\">\n",
       "  <thead>\n",
       "    <tr style=\"text-align: right;\">\n",
       "      <th></th>\n",
       "      <th>id</th>\n",
       "      <th>age</th>\n",
       "      <th>city</th>\n",
       "      <th>f1</th>\n",
       "      <th>f2</th>\n",
       "      <th>f3</th>\n",
       "      <th>f4</th>\n",
       "      <th>f5</th>\n",
       "      <th>range</th>\n",
       "    </tr>\n",
       "  </thead>\n",
       "  <tbody>\n",
       "    <tr>\n",
       "      <th>0</th>\n",
       "      <td>id01</td>\n",
       "      <td>2.0</td>\n",
       "      <td>서울</td>\n",
       "      <td>NaN</td>\n",
       "      <td>0</td>\n",
       "      <td>NaN</td>\n",
       "      <td>ENFJ</td>\n",
       "      <td>91.297791</td>\n",
       "      <td>group1</td>\n",
       "    </tr>\n",
       "    <tr>\n",
       "      <th>1</th>\n",
       "      <td>id02</td>\n",
       "      <td>9.0</td>\n",
       "      <td>서울</td>\n",
       "      <td>70.0</td>\n",
       "      <td>1</td>\n",
       "      <td>NaN</td>\n",
       "      <td>ENFJ</td>\n",
       "      <td>60.339826</td>\n",
       "      <td>group1</td>\n",
       "    </tr>\n",
       "  </tbody>\n",
       "</table>\n",
       "</div>"
      ],
      "text/plain": [
       "     id  age city    f1  f2   f3    f4         f5   range\n",
       "0  id01  2.0   서울   NaN   0  NaN  ENFJ  91.297791  group1\n",
       "1  id02  9.0   서울  70.0   1  NaN  ENFJ  60.339826  group1"
      ]
     },
     "execution_count": 6,
     "metadata": {},
     "output_type": "execute_result"
    }
   ],
   "source": [
    "# 구간 분할\n",
    "df['range'] = pd.qcut(df['age'], q=3, labels = ['group1', 'group2', 'group3'])\n",
    "df.head(2)"
   ]
  },
  {
   "cell_type": "code",
   "execution_count": 7,
   "id": "44eb4f10",
   "metadata": {
    "execution": {
     "iopub.execute_input": "2023-11-03T06:10:27.513642Z",
     "iopub.status.busy": "2023-11-03T06:10:27.513148Z",
     "iopub.status.idle": "2023-11-03T06:10:27.519824Z",
     "shell.execute_reply": "2023-11-03T06:10:27.520267Z",
     "shell.execute_reply.started": "2023-11-03T06:08:13.612706Z"
    },
    "papermill": {
     "duration": 0.017586,
     "end_time": "2023-11-03T06:10:27.520412",
     "exception": false,
     "start_time": "2023-11-03T06:10:27.502826",
     "status": "completed"
    },
    "tags": []
   },
   "outputs": [
    {
     "data": {
      "text/plain": [
       "group1    30\n",
       "group2    30\n",
       "group3    30\n",
       "Name: range, dtype: int64"
      ]
     },
     "execution_count": 7,
     "metadata": {},
     "output_type": "execute_result"
    }
   ],
   "source": [
    "# 수량 비교\n",
    "df.range.value_counts()"
   ]
  },
  {
   "cell_type": "code",
   "execution_count": 8,
   "id": "ec881434",
   "metadata": {
    "execution": {
     "iopub.execute_input": "2023-11-03T06:10:27.539796Z",
     "iopub.status.busy": "2023-11-03T06:10:27.539325Z",
     "iopub.status.idle": "2023-11-03T06:10:27.546858Z",
     "shell.execute_reply": "2023-11-03T06:10:27.546473Z",
     "shell.execute_reply.started": "2023-11-03T06:10:08.987884Z"
    },
    "papermill": {
     "duration": 0.01796,
     "end_time": "2023-11-03T06:10:27.546954",
     "exception": false,
     "start_time": "2023-11-03T06:10:27.528994",
     "status": "completed"
    },
    "tags": []
   },
   "outputs": [
    {
     "data": {
      "text/plain": [
       "165.0"
      ]
     },
     "execution_count": 8,
     "metadata": {},
     "output_type": "execute_result"
    }
   ],
   "source": [
    "# 중간이상 - 중간이하 \n",
    "med1 = df[df['range'] == 'group1']['age'].median()\n",
    "med2 = df[df['range'] == 'group2']['age'].median()\n",
    "med3 = df[df['range'] == 'group3']['age'].median()\n",
    "med1 + med2 + med3"
   ]
  },
  {
   "cell_type": "code",
   "execution_count": null,
   "id": "5a4dc87a",
   "metadata": {
    "papermill": {
     "duration": 0.00861,
     "end_time": "2023-11-03T06:10:27.564635",
     "exception": false,
     "start_time": "2023-11-03T06:10:27.556025",
     "status": "completed"
    },
    "tags": []
   },
   "outputs": [],
   "source": []
  }
 ],
 "metadata": {
  "kernelspec": {
   "display_name": "Python 3",
   "language": "python",
   "name": "python3"
  },
  "language_info": {
   "codemirror_mode": {
    "name": "ipython",
    "version": 3
   },
   "file_extension": ".py",
   "mimetype": "text/x-python",
   "name": "python",
   "nbconvert_exporter": "python",
   "pygments_lexer": "ipython3",
   "version": "3.7.10"
  },
  "papermill": {
   "default_parameters": {},
   "duration": 7.463651,
   "end_time": "2023-11-03T06:10:27.979508",
   "environment_variables": {},
   "exception": null,
   "input_path": "__notebook__.ipynb",
   "output_path": "__notebook__.ipynb",
   "parameters": {},
   "start_time": "2023-11-03T06:10:20.515857",
   "version": "2.3.3"
  }
 },
 "nbformat": 4,
 "nbformat_minor": 5
}
