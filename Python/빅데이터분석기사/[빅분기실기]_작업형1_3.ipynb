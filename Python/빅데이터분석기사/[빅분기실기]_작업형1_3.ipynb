{
  "nbformat": 4,
  "nbformat_minor": 0,
  "metadata": {
    "colab": {
      "provenance": []
    },
    "kernelspec": {
      "name": "python3",
      "display_name": "Python 3"
    },
    "language_info": {
      "name": "python"
    }
  },
  "cells": [
    {
      "cell_type": "code",
      "execution_count": 1,
      "metadata": {
        "id": "9bPxdmP3zWhW"
      },
      "outputs": [],
      "source": [
        "import warnings\n",
        "warnings.filterwarnings('ignore')"
      ]
    },
    {
      "cell_type": "markdown",
      "source": [
        "### APPLY, MAP\n",
        "- 데이터 불러오기"
      ],
      "metadata": {
        "id": "E6g8WN6X0G1g"
      }
    },
    {
      "cell_type": "code",
      "source": [
        "import pandas as pd\n",
        "\n",
        "df = pd.read_csv(\"https://raw.githubusercontent.com/Datamanim/pandas/main/BankChurnersUp.csv\")\n",
        "df.shape"
      ],
      "metadata": {
        "colab": {
          "base_uri": "https://localhost:8080/"
        },
        "id": "r1dN9mBA0LB2",
        "outputId": "fc6b60b9-3b31-4600-cd4a-ff80d1e153e8"
      },
      "execution_count": 2,
      "outputs": [
        {
          "output_type": "execute_result",
          "data": {
            "text/plain": [
              "(10127, 19)"
            ]
          },
          "metadata": {},
          "execution_count": 2
        }
      ]
    },
    {
      "cell_type": "code",
      "source": [
        "df.info()"
      ],
      "metadata": {
        "colab": {
          "base_uri": "https://localhost:8080/"
        },
        "id": "ayn_e6j_0ahy",
        "outputId": "6b6054cb-07b8-4558-b664-54b5afbadef6"
      },
      "execution_count": 3,
      "outputs": [
        {
          "output_type": "stream",
          "name": "stdout",
          "text": [
            "<class 'pandas.core.frame.DataFrame'>\n",
            "RangeIndex: 10127 entries, 0 to 10126\n",
            "Data columns (total 19 columns):\n",
            " #   Column                    Non-Null Count  Dtype  \n",
            "---  ------                    --------------  -----  \n",
            " 0   Unnamed: 0                10127 non-null  int64  \n",
            " 1   CLIENTNUM                 10127 non-null  int64  \n",
            " 2   Attrition_Flag            10127 non-null  object \n",
            " 3   Customer_Age              10127 non-null  int64  \n",
            " 4   Gender                    10127 non-null  object \n",
            " 5   Dependent_count           10127 non-null  int64  \n",
            " 6   Education_Level           10127 non-null  object \n",
            " 7   Marital_Status            10127 non-null  object \n",
            " 8   Income_Category           10127 non-null  object \n",
            " 9   Card_Category             10127 non-null  object \n",
            " 10  Months_on_book            10127 non-null  int64  \n",
            " 11  Total_Relationship_Count  10127 non-null  int64  \n",
            " 12  Months_Inactive_12_mon    10127 non-null  int64  \n",
            " 13  Contacts_Count_12_mon     10127 non-null  int64  \n",
            " 14  Credit_Limit              10127 non-null  float64\n",
            " 15  Total_Revolving_Bal       10127 non-null  int64  \n",
            " 16  Avg_Open_To_Buy           10127 non-null  float64\n",
            " 17  Total_Amt_Chng_Q4_Q1      10127 non-null  float64\n",
            " 18  Total_Trans_Amt           10127 non-null  int64  \n",
            "dtypes: float64(3), int64(10), object(6)\n",
            "memory usage: 1.5+ MB\n"
          ]
        }
      ]
    },
    {
      "cell_type": "markdown",
      "source": [
        "- Income_Category의 카테고리를 map함수를 이용하여 다음과 같이 변경하여 newIncome 컬럼에 매핑하기\n",
        "    - Unknown : N\n",
        "    - Less than $40K : a\n",
        "    - $40K~$60K : b\n",
        "    - $60K~$80K : c\n",
        "    - $80K~$120K : d\n",
        "    - $120K+ : e\n"
      ],
      "metadata": {
        "id": "Q4lss2_D0eKd"
      }
    },
    {
      "cell_type": "code",
      "source": [
        "dic = {\n",
        "    'Unknown' : 'N',\n",
        "    'Less than $40K' : 'a',\n",
        "    '$40K - $60K' : 'b',\n",
        "    '$60K - $80K' : 'c',\n",
        "    '$80K - $120K' : 'd',\n",
        "    '$120K +' : 'e'\n",
        "}\n",
        "df['newIncome'] = df.Income_Category.map(lambda x: dic[x])\n",
        "df['newIncome'].head()"
      ],
      "metadata": {
        "colab": {
          "base_uri": "https://localhost:8080/"
        },
        "id": "09cJ_9Qp0d0S",
        "outputId": "831141c9-1925-43e4-a30a-7fa7fe4a3d0b"
      },
      "execution_count": 4,
      "outputs": [
        {
          "output_type": "execute_result",
          "data": {
            "text/plain": [
              "0    c\n",
              "1    a\n",
              "2    d\n",
              "3    a\n",
              "4    c\n",
              "Name: newIncome, dtype: object"
            ]
          },
          "metadata": {},
          "execution_count": 4
        }
      ]
    },
    {
      "cell_type": "markdown",
      "source": [
        "- 위의 것을 apply 함수를 이용하여 해보기"
      ],
      "metadata": {
        "id": "upvYmPzU3mp6"
      }
    },
    {
      "cell_type": "code",
      "source": [
        "def changeCategory(x):\n",
        "    if x =='Unknown':\n",
        "        return 'N'\n",
        "    elif x =='Less than $40K':\n",
        "        return 'a'\n",
        "    elif x =='$40K - $60K':\n",
        "        return 'b'\n",
        "    elif x =='$60K - $80K':\n",
        "        return 'c'\n",
        "    elif x =='$80K - $120K':\n",
        "        return 'd'\n",
        "    elif x =='$120K +' :\n",
        "        return 'e'\n",
        "\n",
        "df['newIncome'] = df.Income_Category.apply(changeCategory)\n",
        "df['newIncome'].head()"
      ],
      "metadata": {
        "colab": {
          "base_uri": "https://localhost:8080/"
        },
        "id": "5KehDeCQ3qqp",
        "outputId": "2c9ee71e-6d2b-4cef-99f7-5e8c7c5c6088"
      },
      "execution_count": 5,
      "outputs": [
        {
          "output_type": "execute_result",
          "data": {
            "text/plain": [
              "0    c\n",
              "1    a\n",
              "2    d\n",
              "3    a\n",
              "4    c\n",
              "Name: newIncome, dtype: object"
            ]
          },
          "metadata": {},
          "execution_count": 5
        }
      ]
    },
    {
      "cell_type": "markdown",
      "source": [
        "- Customer_Age의 값을 이용하여 나이 구간을 AgeState 컬럼으로 정의하기(0-9 : 0, 10-19 : 10 등) & 각 구간의 빈도수 출력"
      ],
      "metadata": {
        "id": "uLcDPGD34k5D"
      }
    },
    {
      "cell_type": "code",
      "source": [
        "df['AgeState'] = df['Customer_Age'].map(lambda x : x//10 * 10)\n",
        "df['AgeState'].value_counts().sort_index()"
      ],
      "metadata": {
        "colab": {
          "base_uri": "https://localhost:8080/"
        },
        "id": "xNc5bFBA43Ti",
        "outputId": "4f09caad-ef9e-4634-c7c6-0f453e69b9d2"
      },
      "execution_count": 6,
      "outputs": [
        {
          "output_type": "execute_result",
          "data": {
            "text/plain": [
              "20     195\n",
              "30    1841\n",
              "40    4561\n",
              "50    2998\n",
              "60     530\n",
              "70       2\n",
              "Name: AgeState, dtype: int64"
            ]
          },
          "metadata": {},
          "execution_count": 6
        }
      ]
    },
    {
      "cell_type": "markdown",
      "source": [
        "- Ecucation_Level의 값 중 Graduate 단어가 포함되는 값은 1, 그렇지 않은 경우에는 0으로 변경하여 newEduLevel 컬럼을 정의하고 빈도수 출력하기"
      ],
      "metadata": {
        "id": "-3cKbapB5zlN"
      }
    },
    {
      "cell_type": "code",
      "source": [
        "df['newEduLevel'] = df['Education_Level'].map(lambda x : 1 if 'Graduate' in x else 0)\n",
        "df['newEduLevel'].value_counts()"
      ],
      "metadata": {
        "colab": {
          "base_uri": "https://localhost:8080/"
        },
        "id": "cBEgU9_t5_46",
        "outputId": "efaa950a-b0df-45b0-fc75-5cc858cf6504"
      },
      "execution_count": 7,
      "outputs": [
        {
          "output_type": "execute_result",
          "data": {
            "text/plain": [
              "0    6483\n",
              "1    3644\n",
              "Name: newEduLevel, dtype: int64"
            ]
          },
          "metadata": {},
          "execution_count": 7
        }
      ]
    },
    {
      "cell_type": "markdown",
      "source": [
        "- Credit_Limit 컬럼값이 4500 이상인 경우 1 그외의 경우에는 모두 0으로 하는 newLimit 컬럼을 정의하고 각 빈도수 출력하기"
      ],
      "metadata": {
        "id": "j_Z3Xgjh7dk8"
      }
    },
    {
      "cell_type": "code",
      "source": [
        "df['newLimit'] = df['Credit_Limit'].map(lambda x : 1 if x >= 4500 else 0)\n",
        "df['newLimit'].value_counts()"
      ],
      "metadata": {
        "colab": {
          "base_uri": "https://localhost:8080/"
        },
        "id": "ubhorbpQ7ltq",
        "outputId": "b92bdb62-c40f-4796-982e-73bd10712954"
      },
      "execution_count": 9,
      "outputs": [
        {
          "output_type": "execute_result",
          "data": {
            "text/plain": [
              "1    5096\n",
              "0    5031\n",
              "Name: newLimit, dtype: int64"
            ]
          },
          "metadata": {},
          "execution_count": 9
        }
      ]
    },
    {
      "cell_type": "markdown",
      "source": [
        "- Marital_Status 컬럼값이 Married이고 Card_Category 컬럼값이 Platinum인 경우 1 그외의 경우에는 모두 0으로 하는 newState 컬럼을 정의하고 각 값의 빈도수 출력하기"
      ],
      "metadata": {
        "id": "2c1G6NgcJUae"
      }
    },
    {
      "cell_type": "code",
      "source": [
        "def Change(x):\n",
        "    if x['Marital_Status'] == 'Married' and x['Card_Category'] == 'Platinum':\n",
        "        return 1\n",
        "    else:\n",
        "        return 0\n",
        "\n",
        "df['newState'] =df.apply(Change, axis=1)\n",
        "df['newState'].value_counts()"
      ],
      "metadata": {
        "colab": {
          "base_uri": "https://localhost:8080/"
        },
        "id": "3bwNeXEKJkgS",
        "outputId": "8fcf1d63-d50f-440e-fb6a-709b876b9205"
      },
      "execution_count": 14,
      "outputs": [
        {
          "output_type": "execute_result",
          "data": {
            "text/plain": [
              "0    10120\n",
              "1        7\n",
              "Name: newState, dtype: int64"
            ]
          },
          "metadata": {},
          "execution_count": 14
        }
      ]
    },
    {
      "cell_type": "markdown",
      "source": [
        "- Gender 컬럼값 M인 경우 male, F인 경우 female로 값을 변경하여 Gender 컬럼에 새롭게 정의하고, 각 값에 대한 빈도수 구하기"
      ],
      "metadata": {
        "id": "oIQJYKOgPCqZ"
      }
    },
    {
      "cell_type": "code",
      "source": [
        "def GenderName(x):\n",
        "    if x =='M':\n",
        "        return 'male'\n",
        "    else:\n",
        "        return 'female'\n",
        "df['Gender'] = df.Gender.apply(GenderName)\n",
        "df['Gender'].value_counts()"
      ],
      "metadata": {
        "colab": {
          "base_uri": "https://localhost:8080/"
        },
        "id": "CqQZA2ZTPMyf",
        "outputId": "b5664cd6-754e-4282-e1a5-a1b05212da12"
      },
      "execution_count": 20,
      "outputs": [
        {
          "output_type": "execute_result",
          "data": {
            "text/plain": [
              "female    5358\n",
              "male      4769\n",
              "Name: Gender, dtype: int64"
            ]
          },
          "metadata": {},
          "execution_count": 20
        }
      ]
    }
  ]
}