{
 "cells": [
  {
   "cell_type": "markdown",
   "id": "99bc9396",
   "metadata": {
    "_cell_guid": "b1076dfc-b9ad-4769-8c92-a6c4dae69d19",
    "_uuid": "8f2839f25d086af736a60e9eeb907d3b93b6e0e5",
    "papermill": {
     "duration": 0.012438,
     "end_time": "2023-11-03T06:16:27.974713",
     "exception": false,
     "start_time": "2023-11-03T06:16:27.962275",
     "status": "completed"
    },
    "tags": []
   },
   "source": [
    "### 주어진 데이터(basic2.csv)에서 주 단위 Sales의 합계를 구하고, 가장 큰 값을 가진 주와 작은 값을 가진 주의 차이를 구하시오(절대값)\n",
    "- 데이터셋 : basic2.csv\n",
    "- 오른쪽 상단 copy&edit 클릭 -> 예상문제 풀이 시작"
   ]
  },
  {
   "cell_type": "code",
   "execution_count": 1,
   "id": "372756f2",
   "metadata": {
    "execution": {
     "iopub.execute_input": "2023-11-03T06:16:28.003260Z",
     "iopub.status.busy": "2023-11-03T06:16:28.001735Z",
     "iopub.status.idle": "2023-11-03T06:16:28.013450Z",
     "shell.execute_reply": "2023-11-03T06:16:28.014071Z",
     "shell.execute_reply.started": "2023-11-03T06:12:38.179669Z"
    },
    "papermill": {
     "duration": 0.028173,
     "end_time": "2023-11-03T06:16:28.014448",
     "exception": false,
     "start_time": "2023-11-03T06:16:27.986275",
     "status": "completed"
    },
    "tags": []
   },
   "outputs": [],
   "source": [
    "import pandas as pd"
   ]
  },
  {
   "cell_type": "code",
   "execution_count": 2,
   "id": "0cb08a0a",
   "metadata": {
    "execution": {
     "iopub.execute_input": "2023-11-03T06:16:28.042629Z",
     "iopub.status.busy": "2023-11-03T06:16:28.040076Z",
     "iopub.status.idle": "2023-11-03T06:16:28.069956Z",
     "shell.execute_reply": "2023-11-03T06:16:28.069225Z",
     "shell.execute_reply.started": "2023-11-03T06:12:38.204676Z"
    },
    "papermill": {
     "duration": 0.044345,
     "end_time": "2023-11-03T06:16:28.070134",
     "exception": false,
     "start_time": "2023-11-03T06:16:28.025789",
     "status": "completed"
    },
    "tags": []
   },
   "outputs": [],
   "source": [
    "df = pd.read_csv(\"../input/bigdatacertificationkr/basic2.csv\", parse_dates=['Date'], index_col=0)\n",
    "\n",
    "# 아래 코드를 한줄로 표현함\n",
    "# df = pd.read_csv(\"../input/bigdatacertificationkr/basic2.csv\")\n",
    "# df['Date'] = pd.to_datetime(df['Date'])\n",
    "# df = df.set_index('Date')"
   ]
  },
  {
   "cell_type": "code",
   "execution_count": 3,
   "id": "56792955",
   "metadata": {
    "execution": {
     "iopub.execute_input": "2023-11-03T06:16:28.102497Z",
     "iopub.status.busy": "2023-11-03T06:16:28.098110Z",
     "iopub.status.idle": "2023-11-03T06:16:28.117793Z",
     "shell.execute_reply": "2023-11-03T06:16:28.118359Z",
     "shell.execute_reply.started": "2023-11-03T06:12:51.279832Z"
    },
    "papermill": {
     "duration": 0.034498,
     "end_time": "2023-11-03T06:16:28.118567",
     "exception": false,
     "start_time": "2023-11-03T06:16:28.084069",
     "status": "completed"
    },
    "tags": []
   },
   "outputs": [
    {
     "name": "stdout",
     "output_type": "stream",
     "text": [
      "(730, 4)\n"
     ]
    },
    {
     "data": {
      "text/html": [
       "<div>\n",
       "<style scoped>\n",
       "    .dataframe tbody tr th:only-of-type {\n",
       "        vertical-align: middle;\n",
       "    }\n",
       "\n",
       "    .dataframe tbody tr th {\n",
       "        vertical-align: top;\n",
       "    }\n",
       "\n",
       "    .dataframe thead th {\n",
       "        text-align: right;\n",
       "    }\n",
       "</style>\n",
       "<table border=\"1\" class=\"dataframe\">\n",
       "  <thead>\n",
       "    <tr style=\"text-align: right;\">\n",
       "      <th></th>\n",
       "      <th>Sales</th>\n",
       "      <th>PV</th>\n",
       "      <th>UV</th>\n",
       "      <th>Events</th>\n",
       "    </tr>\n",
       "    <tr>\n",
       "      <th>Date</th>\n",
       "      <th></th>\n",
       "      <th></th>\n",
       "      <th></th>\n",
       "      <th></th>\n",
       "    </tr>\n",
       "  </thead>\n",
       "  <tbody>\n",
       "    <tr>\n",
       "      <th>2022-01-01</th>\n",
       "      <td>22711525</td>\n",
       "      <td>397349</td>\n",
       "      <td>4421.0</td>\n",
       "      <td>1</td>\n",
       "    </tr>\n",
       "    <tr>\n",
       "      <th>2022-01-02</th>\n",
       "      <td>36779</td>\n",
       "      <td>3969</td>\n",
       "      <td>2289.0</td>\n",
       "      <td>0</td>\n",
       "    </tr>\n",
       "    <tr>\n",
       "      <th>2022-01-03</th>\n",
       "      <td>13943875</td>\n",
       "      <td>373890</td>\n",
       "      <td>NaN</td>\n",
       "      <td>1</td>\n",
       "    </tr>\n",
       "  </tbody>\n",
       "</table>\n",
       "</div>"
      ],
      "text/plain": [
       "               Sales      PV      UV  Events\n",
       "Date                                        \n",
       "2022-01-01  22711525  397349  4421.0       1\n",
       "2022-01-02     36779    3969  2289.0       0\n",
       "2022-01-03  13943875  373890     NaN       1"
      ]
     },
     "execution_count": 3,
     "metadata": {},
     "output_type": "execute_result"
    }
   ],
   "source": [
    "print(df.shape)\n",
    "df.head(3)"
   ]
  },
  {
   "cell_type": "code",
   "execution_count": 4,
   "id": "dd49fddb",
   "metadata": {
    "execution": {
     "iopub.execute_input": "2023-11-03T06:16:28.155620Z",
     "iopub.status.busy": "2023-11-03T06:16:28.154390Z",
     "iopub.status.idle": "2023-11-03T06:16:28.158587Z",
     "shell.execute_reply": "2023-11-03T06:16:28.159180Z",
     "shell.execute_reply.started": "2023-11-03T06:12:57.949927Z"
    },
    "papermill": {
     "duration": 0.028357,
     "end_time": "2023-11-03T06:16:28.159376",
     "exception": false,
     "start_time": "2023-11-03T06:16:28.131019",
     "status": "completed"
    },
    "tags": []
   },
   "outputs": [
    {
     "data": {
      "text/html": [
       "<div>\n",
       "<style scoped>\n",
       "    .dataframe tbody tr th:only-of-type {\n",
       "        vertical-align: middle;\n",
       "    }\n",
       "\n",
       "    .dataframe tbody tr th {\n",
       "        vertical-align: top;\n",
       "    }\n",
       "\n",
       "    .dataframe thead th {\n",
       "        text-align: right;\n",
       "    }\n",
       "</style>\n",
       "<table border=\"1\" class=\"dataframe\">\n",
       "  <thead>\n",
       "    <tr style=\"text-align: right;\">\n",
       "      <th></th>\n",
       "      <th>Sales</th>\n",
       "      <th>PV</th>\n",
       "      <th>UV</th>\n",
       "      <th>Events</th>\n",
       "    </tr>\n",
       "    <tr>\n",
       "      <th>Date</th>\n",
       "      <th></th>\n",
       "      <th></th>\n",
       "      <th></th>\n",
       "      <th></th>\n",
       "    </tr>\n",
       "  </thead>\n",
       "  <tbody>\n",
       "    <tr>\n",
       "      <th>2023-12-29</th>\n",
       "      <td>1164008</td>\n",
       "      <td>14309</td>\n",
       "      <td>193.0</td>\n",
       "      <td>0</td>\n",
       "    </tr>\n",
       "    <tr>\n",
       "      <th>2023-12-30</th>\n",
       "      <td>3977696</td>\n",
       "      <td>60935</td>\n",
       "      <td>NaN</td>\n",
       "      <td>0</td>\n",
       "    </tr>\n",
       "    <tr>\n",
       "      <th>2023-12-31</th>\n",
       "      <td>3719764</td>\n",
       "      <td>60963</td>\n",
       "      <td>1507.0</td>\n",
       "      <td>0</td>\n",
       "    </tr>\n",
       "  </tbody>\n",
       "</table>\n",
       "</div>"
      ],
      "text/plain": [
       "              Sales     PV      UV  Events\n",
       "Date                                      \n",
       "2023-12-29  1164008  14309   193.0       0\n",
       "2023-12-30  3977696  60935     NaN       0\n",
       "2023-12-31  3719764  60963  1507.0       0"
      ]
     },
     "execution_count": 4,
     "metadata": {},
     "output_type": "execute_result"
    }
   ],
   "source": [
    "df.tail(3)"
   ]
  },
  {
   "cell_type": "markdown",
   "id": "6cc9774c",
   "metadata": {
    "papermill": {
     "duration": 0.012537,
     "end_time": "2023-11-03T06:16:28.184807",
     "exception": false,
     "start_time": "2023-11-03T06:16:28.172270",
     "status": "completed"
    },
    "tags": []
   },
   "source": [
    "### 단위 \n",
    "- 주 단위 W\n",
    "- 2주 단위 2W\n",
    "- 월 단위 M"
   ]
  },
  {
   "cell_type": "markdown",
   "id": "b89c932c",
   "metadata": {
    "papermill": {
     "duration": 0.012629,
     "end_time": "2023-11-03T06:16:28.210342",
     "exception": false,
     "start_time": "2023-11-03T06:16:28.197713",
     "status": "completed"
    },
    "tags": []
   },
   "source": [
    "- resample은 원하는 주기로 데이터프레임을 나눠주는 것"
   ]
  },
  {
   "cell_type": "code",
   "execution_count": 5,
   "id": "5d8f291d",
   "metadata": {
    "execution": {
     "iopub.execute_input": "2023-11-03T06:16:28.241871Z",
     "iopub.status.busy": "2023-11-03T06:16:28.241025Z",
     "iopub.status.idle": "2023-11-03T06:16:28.272776Z",
     "shell.execute_reply": "2023-11-03T06:16:28.273357Z",
     "shell.execute_reply.started": "2023-11-03T06:15:16.455214Z"
    },
    "papermill": {
     "duration": 0.050356,
     "end_time": "2023-11-03T06:16:28.273570",
     "exception": false,
     "start_time": "2023-11-03T06:16:28.223214",
     "status": "completed"
    },
    "tags": []
   },
   "outputs": [
    {
     "data": {
      "text/html": [
       "<div>\n",
       "<style scoped>\n",
       "    .dataframe tbody tr th:only-of-type {\n",
       "        vertical-align: middle;\n",
       "    }\n",
       "\n",
       "    .dataframe tbody tr th {\n",
       "        vertical-align: top;\n",
       "    }\n",
       "\n",
       "    .dataframe thead th {\n",
       "        text-align: right;\n",
       "    }\n",
       "</style>\n",
       "<table border=\"1\" class=\"dataframe\">\n",
       "  <thead>\n",
       "    <tr style=\"text-align: right;\">\n",
       "      <th></th>\n",
       "      <th>Sales</th>\n",
       "      <th>PV</th>\n",
       "      <th>UV</th>\n",
       "      <th>Events</th>\n",
       "    </tr>\n",
       "    <tr>\n",
       "      <th>Date</th>\n",
       "      <th></th>\n",
       "      <th></th>\n",
       "      <th></th>\n",
       "      <th></th>\n",
       "    </tr>\n",
       "  </thead>\n",
       "  <tbody>\n",
       "    <tr>\n",
       "      <th>2022-01-02</th>\n",
       "      <td>22748304</td>\n",
       "      <td>401318</td>\n",
       "      <td>6710.0</td>\n",
       "      <td>1</td>\n",
       "    </tr>\n",
       "    <tr>\n",
       "      <th>2022-01-09</th>\n",
       "      <td>33373822</td>\n",
       "      <td>1148464</td>\n",
       "      <td>15189.0</td>\n",
       "      <td>2</td>\n",
       "    </tr>\n",
       "    <tr>\n",
       "      <th>2022-01-16</th>\n",
       "      <td>20754519</td>\n",
       "      <td>283773</td>\n",
       "      <td>9344.0</td>\n",
       "      <td>0</td>\n",
       "    </tr>\n",
       "    <tr>\n",
       "      <th>2022-01-23</th>\n",
       "      <td>21880751</td>\n",
       "      <td>538633</td>\n",
       "      <td>9841.0</td>\n",
       "      <td>1</td>\n",
       "    </tr>\n",
       "    <tr>\n",
       "      <th>2022-01-30</th>\n",
       "      <td>28878452</td>\n",
       "      <td>560814</td>\n",
       "      <td>7808.0</td>\n",
       "      <td>1</td>\n",
       "    </tr>\n",
       "  </tbody>\n",
       "</table>\n",
       "</div>"
      ],
      "text/plain": [
       "               Sales       PV       UV  Events\n",
       "Date                                          \n",
       "2022-01-02  22748304   401318   6710.0       1\n",
       "2022-01-09  33373822  1148464  15189.0       2\n",
       "2022-01-16  20754519   283773   9344.0       0\n",
       "2022-01-23  21880751   538633   9841.0       1\n",
       "2022-01-30  28878452   560814   7808.0       1"
      ]
     },
     "execution_count": 5,
     "metadata": {},
     "output_type": "execute_result"
    }
   ],
   "source": [
    "df_w = df.resample('W').sum()\n",
    "df_w.head()"
   ]
  },
  {
   "cell_type": "code",
   "execution_count": 6,
   "id": "c70a648f",
   "metadata": {
    "execution": {
     "iopub.execute_input": "2023-11-03T06:16:28.304650Z",
     "iopub.status.busy": "2023-11-03T06:16:28.303853Z",
     "iopub.status.idle": "2023-11-03T06:16:28.309584Z",
     "shell.execute_reply": "2023-11-03T06:16:28.310145Z",
     "shell.execute_reply.started": "2023-11-03T06:15:37.685537Z"
    },
    "papermill": {
     "duration": 0.023142,
     "end_time": "2023-11-03T06:16:28.310333",
     "exception": false,
     "start_time": "2023-11-03T06:16:28.287191",
     "status": "completed"
    },
    "tags": []
   },
   "outputs": [
    {
     "data": {
      "text/plain": [
       "99165648"
      ]
     },
     "execution_count": 6,
     "metadata": {},
     "output_type": "execute_result"
    }
   ],
   "source": [
    "ma = df_w['Sales'].max()\n",
    "ma"
   ]
  },
  {
   "cell_type": "code",
   "execution_count": 7,
   "id": "7512cf9f",
   "metadata": {
    "execution": {
     "iopub.execute_input": "2023-11-03T06:16:28.343967Z",
     "iopub.status.busy": "2023-11-03T06:16:28.341221Z",
     "iopub.status.idle": "2023-11-03T06:16:28.347974Z",
     "shell.execute_reply": "2023-11-03T06:16:28.347266Z",
     "shell.execute_reply.started": "2023-11-03T06:15:40.508390Z"
    },
    "papermill": {
     "duration": 0.02393,
     "end_time": "2023-11-03T06:16:28.348137",
     "exception": false,
     "start_time": "2023-11-03T06:16:28.324207",
     "status": "completed"
    },
    "tags": []
   },
   "outputs": [
    {
     "data": {
      "text/plain": [
       "7526598"
      ]
     },
     "execution_count": 7,
     "metadata": {},
     "output_type": "execute_result"
    }
   ],
   "source": [
    "mi = df_w['Sales'].min()\n",
    "mi"
   ]
  },
  {
   "cell_type": "code",
   "execution_count": 8,
   "id": "1adb30e4",
   "metadata": {
    "execution": {
     "iopub.execute_input": "2023-11-03T06:16:28.380653Z",
     "iopub.status.busy": "2023-11-03T06:16:28.379825Z",
     "iopub.status.idle": "2023-11-03T06:16:28.384708Z",
     "shell.execute_reply": "2023-11-03T06:16:28.385316Z",
     "shell.execute_reply.started": "2023-11-03T06:15:50.917550Z"
    },
    "papermill": {
     "duration": 0.022888,
     "end_time": "2023-11-03T06:16:28.385550",
     "exception": false,
     "start_time": "2023-11-03T06:16:28.362662",
     "status": "completed"
    },
    "tags": []
   },
   "outputs": [
    {
     "name": "stdout",
     "output_type": "stream",
     "text": [
      "91639050\n"
     ]
    }
   ],
   "source": [
    "print(ma - mi)"
   ]
  }
 ],
 "metadata": {
  "kernelspec": {
   "display_name": "Python 3",
   "language": "python",
   "name": "python3"
  },
  "language_info": {
   "codemirror_mode": {
    "name": "ipython",
    "version": 3
   },
   "file_extension": ".py",
   "mimetype": "text/x-python",
   "name": "python",
   "nbconvert_exporter": "python",
   "pygments_lexer": "ipython3",
   "version": "3.7.10"
  },
  "papermill": {
   "default_parameters": {},
   "duration": 11.837276,
   "end_time": "2023-11-03T06:16:29.010594",
   "environment_variables": {},
   "exception": null,
   "input_path": "__notebook__.ipynb",
   "output_path": "__notebook__.ipynb",
   "parameters": {},
   "start_time": "2023-11-03T06:16:17.173318",
   "version": "2.3.3"
  }
 },
 "nbformat": 4,
 "nbformat_minor": 5
}
