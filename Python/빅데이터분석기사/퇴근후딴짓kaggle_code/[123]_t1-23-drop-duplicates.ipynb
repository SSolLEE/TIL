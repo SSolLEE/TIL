{
 "cells": [
  {
   "cell_type": "markdown",
   "id": "51c90623",
   "metadata": {
    "papermill": {
     "duration": 0.009611,
     "end_time": "2023-11-03T06:29:27.703893",
     "exception": false,
     "start_time": "2023-11-03T06:29:27.694282",
     "status": "completed"
    },
    "tags": []
   },
   "source": [
    "## f1의 결측치를 채운 후 age 컬럼의 중복 제거 전과 후의 'f1' 중앙값 차이를 구하시오 \n",
    "### - 결측치는 f1의 데이터 중 내림차순 정렬 후 10번째 값으로 채움\n",
    "### - 중복 데이터 발생시 뒤에 나오는 데이터를 삭제함\n",
    "### - 최종 결과값은 절대값으로 출력\n",
    "\n",
    "- 데이터셋 : basic1.csv\n",
    "- 오른쪽 상단 copy&edit 클릭 -> 예상문제 풀이 시작"
   ]
  },
  {
   "cell_type": "code",
   "execution_count": 1,
   "id": "a79cf282",
   "metadata": {
    "_cell_guid": "b1076dfc-b9ad-4769-8c92-a6c4dae69d19",
    "_uuid": "8f2839f25d086af736a60e9eeb907d3b93b6e0e5",
    "execution": {
     "iopub.execute_input": "2023-11-03T06:29:27.731219Z",
     "iopub.status.busy": "2023-11-03T06:29:27.729960Z",
     "iopub.status.idle": "2023-11-03T06:29:27.737222Z",
     "shell.execute_reply": "2023-11-03T06:29:27.736496Z",
     "shell.execute_reply.started": "2023-11-03T06:28:18.584744Z"
    },
    "papermill": {
     "duration": 0.024402,
     "end_time": "2023-11-03T06:29:27.737415",
     "exception": false,
     "start_time": "2023-11-03T06:29:27.713013",
     "status": "completed"
    },
    "tags": []
   },
   "outputs": [],
   "source": [
    "import pandas as pd"
   ]
  },
  {
   "cell_type": "code",
   "execution_count": 2,
   "id": "97172131",
   "metadata": {
    "execution": {
     "iopub.execute_input": "2023-11-03T06:29:27.761179Z",
     "iopub.status.busy": "2023-11-03T06:29:27.760327Z",
     "iopub.status.idle": "2023-11-03T06:29:27.800166Z",
     "shell.execute_reply": "2023-11-03T06:29:27.799498Z",
     "shell.execute_reply.started": "2023-11-03T06:28:18.592491Z"
    },
    "papermill": {
     "duration": 0.05433,
     "end_time": "2023-11-03T06:29:27.800368",
     "exception": false,
     "start_time": "2023-11-03T06:29:27.746038",
     "status": "completed"
    },
    "tags": []
   },
   "outputs": [
    {
     "data": {
      "text/html": [
       "<div>\n",
       "<style scoped>\n",
       "    .dataframe tbody tr th:only-of-type {\n",
       "        vertical-align: middle;\n",
       "    }\n",
       "\n",
       "    .dataframe tbody tr th {\n",
       "        vertical-align: top;\n",
       "    }\n",
       "\n",
       "    .dataframe thead th {\n",
       "        text-align: right;\n",
       "    }\n",
       "</style>\n",
       "<table border=\"1\" class=\"dataframe\">\n",
       "  <thead>\n",
       "    <tr style=\"text-align: right;\">\n",
       "      <th></th>\n",
       "      <th>id</th>\n",
       "      <th>age</th>\n",
       "      <th>city</th>\n",
       "      <th>f1</th>\n",
       "      <th>f2</th>\n",
       "      <th>f3</th>\n",
       "      <th>f4</th>\n",
       "      <th>f5</th>\n",
       "    </tr>\n",
       "  </thead>\n",
       "  <tbody>\n",
       "    <tr>\n",
       "      <th>95</th>\n",
       "      <td>id96</td>\n",
       "      <td>92.0</td>\n",
       "      <td>경기</td>\n",
       "      <td>53.0</td>\n",
       "      <td>1</td>\n",
       "      <td>NaN</td>\n",
       "      <td>ENTJ</td>\n",
       "      <td>52.667078</td>\n",
       "    </tr>\n",
       "    <tr>\n",
       "      <th>96</th>\n",
       "      <td>id97</td>\n",
       "      <td>100.0</td>\n",
       "      <td>경기</td>\n",
       "      <td>NaN</td>\n",
       "      <td>0</td>\n",
       "      <td>NaN</td>\n",
       "      <td>INFP</td>\n",
       "      <td>67.886373</td>\n",
       "    </tr>\n",
       "    <tr>\n",
       "      <th>97</th>\n",
       "      <td>id98</td>\n",
       "      <td>39.0</td>\n",
       "      <td>경기</td>\n",
       "      <td>58.0</td>\n",
       "      <td>2</td>\n",
       "      <td>NaN</td>\n",
       "      <td>INFP</td>\n",
       "      <td>98.429899</td>\n",
       "    </tr>\n",
       "    <tr>\n",
       "      <th>98</th>\n",
       "      <td>id99</td>\n",
       "      <td>1.0</td>\n",
       "      <td>경기</td>\n",
       "      <td>47.0</td>\n",
       "      <td>0</td>\n",
       "      <td>NaN</td>\n",
       "      <td>ESFJ</td>\n",
       "      <td>97.381034</td>\n",
       "    </tr>\n",
       "    <tr>\n",
       "      <th>99</th>\n",
       "      <td>id100</td>\n",
       "      <td>47.0</td>\n",
       "      <td>경기</td>\n",
       "      <td>53.0</td>\n",
       "      <td>0</td>\n",
       "      <td>vip</td>\n",
       "      <td>ESFP</td>\n",
       "      <td>33.308999</td>\n",
       "    </tr>\n",
       "  </tbody>\n",
       "</table>\n",
       "</div>"
      ],
      "text/plain": [
       "       id    age city    f1  f2   f3    f4         f5\n",
       "95   id96   92.0   경기  53.0   1  NaN  ENTJ  52.667078\n",
       "96   id97  100.0   경기   NaN   0  NaN  INFP  67.886373\n",
       "97   id98   39.0   경기  58.0   2  NaN  INFP  98.429899\n",
       "98   id99    1.0   경기  47.0   0  NaN  ESFJ  97.381034\n",
       "99  id100   47.0   경기  53.0   0  vip  ESFP  33.308999"
      ]
     },
     "execution_count": 2,
     "metadata": {},
     "output_type": "execute_result"
    }
   ],
   "source": [
    "df = pd.read_csv('../input/bigdatacertificationkr/basic1.csv')\n",
    "df.tail()"
   ]
  },
  {
   "cell_type": "code",
   "execution_count": 3,
   "id": "a1f42c24",
   "metadata": {
    "execution": {
     "iopub.execute_input": "2023-11-03T06:29:27.830889Z",
     "iopub.status.busy": "2023-11-03T06:29:27.830171Z",
     "iopub.status.idle": "2023-11-03T06:29:27.834731Z",
     "shell.execute_reply": "2023-11-03T06:29:27.835186Z",
     "shell.execute_reply.started": "2023-11-03T06:28:18.630741Z"
    },
    "papermill": {
     "duration": 0.02335,
     "end_time": "2023-11-03T06:29:27.835373",
     "exception": false,
     "start_time": "2023-11-03T06:29:27.812023",
     "status": "completed"
    },
    "tags": []
   },
   "outputs": [
    {
     "data": {
      "text/plain": [
       "88.0"
      ]
     },
     "execution_count": 3,
     "metadata": {},
     "output_type": "execute_result"
    }
   ],
   "source": [
    "df['f1'].sort_values(ascending=False).iloc[9]"
   ]
  },
  {
   "cell_type": "code",
   "execution_count": 4,
   "id": "b9a4bdd5",
   "metadata": {
    "execution": {
     "iopub.execute_input": "2023-11-03T06:29:27.859687Z",
     "iopub.status.busy": "2023-11-03T06:29:27.858934Z",
     "iopub.status.idle": "2023-11-03T06:29:27.872712Z",
     "shell.execute_reply": "2023-11-03T06:29:27.873185Z",
     "shell.execute_reply.started": "2023-11-03T06:28:18.640460Z"
    },
    "papermill": {
     "duration": 0.02768,
     "end_time": "2023-11-03T06:29:27.873374",
     "exception": false,
     "start_time": "2023-11-03T06:29:27.845694",
     "status": "completed"
    },
    "tags": []
   },
   "outputs": [
    {
     "data": {
      "text/html": [
       "<div>\n",
       "<style scoped>\n",
       "    .dataframe tbody tr th:only-of-type {\n",
       "        vertical-align: middle;\n",
       "    }\n",
       "\n",
       "    .dataframe tbody tr th {\n",
       "        vertical-align: top;\n",
       "    }\n",
       "\n",
       "    .dataframe thead th {\n",
       "        text-align: right;\n",
       "    }\n",
       "</style>\n",
       "<table border=\"1\" class=\"dataframe\">\n",
       "  <thead>\n",
       "    <tr style=\"text-align: right;\">\n",
       "      <th></th>\n",
       "      <th>id</th>\n",
       "      <th>age</th>\n",
       "      <th>city</th>\n",
       "      <th>f1</th>\n",
       "      <th>f2</th>\n",
       "      <th>f3</th>\n",
       "      <th>f4</th>\n",
       "      <th>f5</th>\n",
       "    </tr>\n",
       "  </thead>\n",
       "  <tbody>\n",
       "    <tr>\n",
       "      <th>95</th>\n",
       "      <td>id96</td>\n",
       "      <td>92.0</td>\n",
       "      <td>경기</td>\n",
       "      <td>53.0</td>\n",
       "      <td>1</td>\n",
       "      <td>NaN</td>\n",
       "      <td>ENTJ</td>\n",
       "      <td>52.667078</td>\n",
       "    </tr>\n",
       "    <tr>\n",
       "      <th>96</th>\n",
       "      <td>id97</td>\n",
       "      <td>100.0</td>\n",
       "      <td>경기</td>\n",
       "      <td>88.0</td>\n",
       "      <td>0</td>\n",
       "      <td>NaN</td>\n",
       "      <td>INFP</td>\n",
       "      <td>67.886373</td>\n",
       "    </tr>\n",
       "    <tr>\n",
       "      <th>97</th>\n",
       "      <td>id98</td>\n",
       "      <td>39.0</td>\n",
       "      <td>경기</td>\n",
       "      <td>58.0</td>\n",
       "      <td>2</td>\n",
       "      <td>NaN</td>\n",
       "      <td>INFP</td>\n",
       "      <td>98.429899</td>\n",
       "    </tr>\n",
       "    <tr>\n",
       "      <th>98</th>\n",
       "      <td>id99</td>\n",
       "      <td>1.0</td>\n",
       "      <td>경기</td>\n",
       "      <td>47.0</td>\n",
       "      <td>0</td>\n",
       "      <td>NaN</td>\n",
       "      <td>ESFJ</td>\n",
       "      <td>97.381034</td>\n",
       "    </tr>\n",
       "    <tr>\n",
       "      <th>99</th>\n",
       "      <td>id100</td>\n",
       "      <td>47.0</td>\n",
       "      <td>경기</td>\n",
       "      <td>53.0</td>\n",
       "      <td>0</td>\n",
       "      <td>vip</td>\n",
       "      <td>ESFP</td>\n",
       "      <td>33.308999</td>\n",
       "    </tr>\n",
       "  </tbody>\n",
       "</table>\n",
       "</div>"
      ],
      "text/plain": [
       "       id    age city    f1  f2   f3    f4         f5\n",
       "95   id96   92.0   경기  53.0   1  NaN  ENTJ  52.667078\n",
       "96   id97  100.0   경기  88.0   0  NaN  INFP  67.886373\n",
       "97   id98   39.0   경기  58.0   2  NaN  INFP  98.429899\n",
       "98   id99    1.0   경기  47.0   0  NaN  ESFJ  97.381034\n",
       "99  id100   47.0   경기  53.0   0  vip  ESFP  33.308999"
      ]
     },
     "execution_count": 4,
     "metadata": {},
     "output_type": "execute_result"
    }
   ],
   "source": [
    "# f1데이터에서 10번째 큰 값으로 결측치를 채움\n",
    "df['f1'] = df['f1'].fillna(df['f1'].sort_values(ascending=False).iloc[9])\n",
    "df.tail()"
   ]
  },
  {
   "cell_type": "code",
   "execution_count": 5,
   "id": "6a927924",
   "metadata": {
    "execution": {
     "iopub.execute_input": "2023-11-03T06:29:27.899639Z",
     "iopub.status.busy": "2023-11-03T06:29:27.898948Z",
     "iopub.status.idle": "2023-11-03T06:29:27.901615Z",
     "shell.execute_reply": "2023-11-03T06:29:27.902014Z",
     "shell.execute_reply.started": "2023-11-03T06:28:18.664441Z"
    },
    "papermill": {
     "duration": 0.019485,
     "end_time": "2023-11-03T06:29:27.902244",
     "exception": false,
     "start_time": "2023-11-03T06:29:27.882759",
     "status": "completed"
    },
    "tags": []
   },
   "outputs": [
    {
     "data": {
      "text/plain": [
       "0"
      ]
     },
     "execution_count": 5,
     "metadata": {},
     "output_type": "execute_result"
    }
   ],
   "source": [
    "df.f1.isnull().sum()"
   ]
  },
  {
   "cell_type": "code",
   "execution_count": 6,
   "id": "a1d85d15",
   "metadata": {
    "execution": {
     "iopub.execute_input": "2023-11-03T06:29:27.927132Z",
     "iopub.status.busy": "2023-11-03T06:29:27.926488Z",
     "iopub.status.idle": "2023-11-03T06:29:27.933187Z",
     "shell.execute_reply": "2023-11-03T06:29:27.933693Z",
     "shell.execute_reply.started": "2023-11-03T06:28:18.679499Z"
    },
    "papermill": {
     "duration": 0.021863,
     "end_time": "2023-11-03T06:29:27.933893",
     "exception": false,
     "start_time": "2023-11-03T06:29:27.912030",
     "status": "completed"
    },
    "tags": []
   },
   "outputs": [
    {
     "data": {
      "text/plain": [
       "77.5"
      ]
     },
     "execution_count": 6,
     "metadata": {},
     "output_type": "execute_result"
    }
   ],
   "source": [
    "# 중복 제거 전 중앙 값\n",
    "med_before = df['f1'].median()\n",
    "med_before"
   ]
  },
  {
   "cell_type": "code",
   "execution_count": 7,
   "id": "76f44de2",
   "metadata": {
    "execution": {
     "iopub.execute_input": "2023-11-03T06:29:27.975682Z",
     "iopub.status.busy": "2023-11-03T06:29:27.957942Z",
     "iopub.status.idle": "2023-11-03T06:29:27.978759Z",
     "shell.execute_reply": "2023-11-03T06:29:27.979186Z",
     "shell.execute_reply.started": "2023-11-03T06:28:27.402185Z"
    },
    "papermill": {
     "duration": 0.035157,
     "end_time": "2023-11-03T06:29:27.979379",
     "exception": false,
     "start_time": "2023-11-03T06:29:27.944222",
     "status": "completed"
    },
    "tags": []
   },
   "outputs": [
    {
     "name": "stdout",
     "output_type": "stream",
     "text": [
      "(100, 8)\n",
      "(71, 8)\n"
     ]
    }
   ],
   "source": [
    "# 중복 제거\n",
    "print(df.shape)\n",
    "df['f1'].duplicated(keep=False).value_counts()\n",
    "df = df.drop_duplicates(subset=['age'])\n",
    "print(df.shape)"
   ]
  },
  {
   "cell_type": "code",
   "execution_count": 8,
   "id": "24a950ad",
   "metadata": {
    "execution": {
     "iopub.execute_input": "2023-11-03T06:29:28.005288Z",
     "iopub.status.busy": "2023-11-03T06:29:28.004497Z",
     "iopub.status.idle": "2023-11-03T06:29:28.010096Z",
     "shell.execute_reply": "2023-11-03T06:29:28.010680Z",
     "shell.execute_reply.started": "2023-11-03T06:28:42.053027Z"
    },
    "papermill": {
     "duration": 0.020722,
     "end_time": "2023-11-03T06:29:28.010877",
     "exception": false,
     "start_time": "2023-11-03T06:29:27.990155",
     "status": "completed"
    },
    "tags": []
   },
   "outputs": [
    {
     "data": {
      "text/plain": [
       "77.0"
      ]
     },
     "execution_count": 8,
     "metadata": {},
     "output_type": "execute_result"
    }
   ],
   "source": [
    "# 중복 제거 후 중앙 값\n",
    "med_after = df['f1'].median()\n",
    "med_after"
   ]
  },
  {
   "cell_type": "code",
   "execution_count": 9,
   "id": "2b32de11",
   "metadata": {
    "execution": {
     "iopub.execute_input": "2023-11-03T06:29:28.036493Z",
     "iopub.status.busy": "2023-11-03T06:29:28.035627Z",
     "iopub.status.idle": "2023-11-03T06:29:28.041493Z",
     "shell.execute_reply": "2023-11-03T06:29:28.042130Z",
     "shell.execute_reply.started": "2023-11-03T06:29:01.325151Z"
    },
    "papermill": {
     "duration": 0.020903,
     "end_time": "2023-11-03T06:29:28.042337",
     "exception": false,
     "start_time": "2023-11-03T06:29:28.021434",
     "status": "completed"
    },
    "tags": []
   },
   "outputs": [
    {
     "data": {
      "text/plain": [
       "0.5"
      ]
     },
     "execution_count": 9,
     "metadata": {},
     "output_type": "execute_result"
    }
   ],
   "source": [
    "# 차이 (절대값)\n",
    "abs(med_before - med_after)"
   ]
  },
  {
   "cell_type": "code",
   "execution_count": null,
   "id": "70ad6759",
   "metadata": {
    "papermill": {
     "duration": 0.010626,
     "end_time": "2023-11-03T06:29:28.063995",
     "exception": false,
     "start_time": "2023-11-03T06:29:28.053369",
     "status": "completed"
    },
    "tags": []
   },
   "outputs": [],
   "source": []
  }
 ],
 "metadata": {
  "kernelspec": {
   "display_name": "Python 3",
   "language": "python",
   "name": "python3"
  },
  "language_info": {
   "codemirror_mode": {
    "name": "ipython",
    "version": 3
   },
   "file_extension": ".py",
   "mimetype": "text/x-python",
   "name": "python",
   "nbconvert_exporter": "python",
   "pygments_lexer": "ipython3",
   "version": "3.7.10"
  },
  "papermill": {
   "default_parameters": {},
   "duration": 11.915391,
   "end_time": "2023-11-03T06:29:28.989344",
   "environment_variables": {},
   "exception": null,
   "input_path": "__notebook__.ipynb",
   "output_path": "__notebook__.ipynb",
   "parameters": {},
   "start_time": "2023-11-03T06:29:17.073953",
   "version": "2.3.3"
  }
 },
 "nbformat": 4,
 "nbformat_minor": 5
}
